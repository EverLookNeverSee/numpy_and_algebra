{
 "cells": [
  {
   "cell_type": "markdown",
   "metadata": {
    "collapsed": true,
    "pycharm": {
     "is_executing": false,
     "name": "#%% md\n"
    }
   },
   "source": [
    "## Matrices and Matrix Arithmetic\n",
    "### Defining a matrix:"
   ]
  },
  {
   "cell_type": "code",
   "execution_count": 17,
   "outputs": [
    {
     "name": "stdout",
     "text": [
      "A: \n",
      "[[1 2 3]\n",
      " [4 5 6]]\n"
     ],
     "output_type": "stream"
    }
   ],
   "source": [
    "from numpy import array\n",
    "\n",
    "A = array([[1, 2, 3],\n",
    "           [4, 5, 6]])\n",
    "print(f\"A: \\n{A}\")"
   ],
   "metadata": {
    "collapsed": false,
    "pycharm": {
     "name": "#%%\n",
     "is_executing": false
    }
   }
  },
  {
   "cell_type": "markdown",
   "source": [
    "### Matrix Arithmetic\n",
    "### Matrix Addition:"
   ],
   "metadata": {
    "collapsed": false
   }
  },
  {
   "cell_type": "code",
   "execution_count": 18,
   "outputs": [
    {
     "name": "stdout",
     "text": [
      "A: \n",
      "[[1 2 3]\n",
      " [4 5 6]]\n",
      "\n",
      "B: \n",
      "[[1 2 3]\n",
      " [4 5 6]]\n",
      "\n",
      "C: \n",
      "[[ 2  4  6]\n",
      " [ 8 10 12]]\n"
     ],
     "output_type": "stream"
    }
   ],
   "source": [
    "A = array([[1, 2, 3],\n",
    "           [4, 5, 6]])\n",
    "print(f\"A: \\n{A}\\n\")\n",
    "\n",
    "B = array([[1, 2, 3],\n",
    "           [4, 5, 6]])\n",
    "print(f\"B: \\n{B}\\n\")\n",
    "\n",
    "C = A + B\n",
    "print(f\"C: \\n{C}\")"
   ],
   "metadata": {
    "collapsed": false,
    "pycharm": {
     "name": "#%%\n",
     "is_executing": false
    }
   }
  },
  {
   "cell_type": "markdown",
   "source": [
    "### Matrix Subtraction:"
   ],
   "metadata": {
    "collapsed": false
   }
  },
  {
   "cell_type": "code",
   "execution_count": 19,
   "outputs": [
    {
     "name": "stdout",
     "text": [
      "C: \n",
      "[[0 0 0]\n",
      " [0 0 0]]\n"
     ],
     "output_type": "stream"
    }
   ],
   "source": [
    "C = A - B\n",
    "print(f\"C: \\n{C}\")"
   ],
   "metadata": {
    "collapsed": false,
    "pycharm": {
     "name": "#%%\n",
     "is_executing": false
    }
   }
  },
  {
   "cell_type": "markdown",
   "source": [
    "### Matrix Multiplication\n",
    "### Hadamard Product:"
   ],
   "metadata": {
    "collapsed": false,
    "pycharm": {
     "name": "#%% md\n"
    }
   }
  },
  {
   "cell_type": "code",
   "execution_count": 20,
   "outputs": [
    {
     "name": "stdout",
     "text": [
      "C: \n",
      "[[ 1  4  9]\n",
      " [16 25 36]]\n"
     ],
     "output_type": "stream"
    }
   ],
   "source": [
    "C = A * B\n",
    "print(f\"C: \\n{C}\")"
   ],
   "metadata": {
    "collapsed": false,
    "pycharm": {
     "name": "#%%\n",
     "is_executing": false
    }
   }
  },
  {
   "cell_type": "markdown",
   "source": [
    "### Matrix Division:"
   ],
   "metadata": {
    "collapsed": false,
    "pycharm": {
     "name": "#%% md\n"
    }
   }
  },
  {
   "cell_type": "code",
   "execution_count": 21,
   "outputs": [
    {
     "name": "stdout",
     "text": [
      "C: \n",
      "[[1. 1. 1.]\n",
      " [1. 1. 1.]]\n"
     ],
     "output_type": "stream"
    }
   ],
   "source": [
    "C = A / B\n",
    "print(f\"C: \\n{C}\")"
   ],
   "metadata": {
    "collapsed": false,
    "pycharm": {
     "name": "#%%\n",
     "is_executing": false
    }
   }
  },
  {
   "cell_type": "markdown",
   "source": [
    "### Matrix-Matrix Multiplication\n",
    "### Using dot() method:"
   ],
   "metadata": {
    "collapsed": false
   }
  },
  {
   "cell_type": "code",
   "execution_count": 22,
   "outputs": [
    {
     "name": "stdout",
     "text": [
      "A: \n",
      "[[1 2]\n",
      " [3 4]\n",
      " [5 6]]\n",
      "\n",
      "B: \n",
      "[[1 2]\n",
      " [3 4]]\n",
      "\n",
      "C: \n",
      "[[ 7 10]\n",
      " [15 22]\n",
      " [23 34]]\n"
     ],
     "output_type": "stream"
    }
   ],
   "source": [
    "A = array([[1, 2],\n",
    "           [3, 4],\n",
    "           [5, 6]])\n",
    "print(f\"A: \\n{A}\\n\")\n",
    "\n",
    "B = array([[1, 2],\n",
    "           [3, 4]])\n",
    "print(f\"B: \\n{B}\\n\")\n",
    "\n",
    "# multiply matrices using dot method\n",
    "C = A.dot(B)\n",
    "print(f\"C: \\n{C}\")"
   ],
   "metadata": {
    "collapsed": false,
    "pycharm": {
     "name": "#%%\n",
     "is_executing": false
    }
   }
  },
  {
   "cell_type": "markdown",
   "source": [
    "### Using @ operand:"
   ],
   "metadata": {
    "collapsed": false,
    "pycharm": {
     "name": "#%% md\n"
    }
   }
  },
  {
   "cell_type": "code",
   "execution_count": 23,
   "outputs": [
    {
     "name": "stdout",
     "text": [
      "D: \n",
      "[[ 7 10]\n",
      " [15 22]\n",
      " [23 34]]\n"
     ],
     "output_type": "stream"
    }
   ],
   "source": [
    "D = A @ B\n",
    "print(f\"D: \\n{D}\")"
   ],
   "metadata": {
    "collapsed": false,
    "pycharm": {
     "name": "#%%\n",
     "is_executing": false
    }
   }
  },
  {
   "cell_type": "code",
   "execution_count": 24,
   "outputs": [
    {
     "name": "stdout",
     "text": [
      "D: \n",
      "[[ 7 10]\n",
      " [15 22]\n",
      " [23 34]]\n"
     ],
     "output_type": "stream"
    }
   ],
   "source": [
    "D = A @ B\n",
    "print(f\"D: \\n{D}\")"
   ],
   "metadata": {
    "collapsed": false,
    "pycharm": {
     "name": "#%%\n",
     "is_executing": false
    }
   }
  },
  {
   "cell_type": "markdown",
   "source": [
    "### Matrix-Vector Multiplication\n",
    "### Using dot() method:"
   ],
   "metadata": {
    "collapsed": false,
    "pycharm": {
     "name": "#%% md\n",
     "is_executing": false
    }
   }
  },
  {
   "cell_type": "code",
   "execution_count": 25,
   "outputs": [
    {
     "name": "stdout",
     "text": [
      "B vector: [0.5 0.5]\n",
      "C: [1.5 3.5 5.5]\n"
     ],
     "output_type": "stream"
    }
   ],
   "source": [
    "B = array([0.5, 0.5])\n",
    "print(f\"B vector: {B}\")\n",
    "\n",
    "C = A.dot(B)\n",
    "print(f\"C: {C}\")\n"
   ],
   "metadata": {
    "collapsed": false,
    "pycharm": {
     "name": "#%%\n",
     "is_executing": false
    }
   }
  },
  {
   "cell_type": "markdown",
   "source": [
    "### Matrix-Scalar Multiplication"
   ],
   "metadata": {
    "collapsed": false,
    "pycharm": {
     "name": "#%% md\n",
     "is_executing": false
    }
   }
  },
  {
   "cell_type": "code",
   "execution_count": 28,
   "outputs": [
    {
     "name": "stdout",
     "text": [
      "A: \n",
      "[[1 2]\n",
      " [3 4]\n",
      " [5 6]]\n",
      "\n",
      "Scalar b: 0.5\n",
      "\n",
      "C: \n",
      "[[0.5 1. ]\n",
      " [1.5 2. ]\n",
      " [2.5 3. ]]\n"
     ],
     "output_type": "stream"
    }
   ],
   "source": [
    "A = array([[1, 2],\n",
    "           [3, 4],\n",
    "           [5, 6]])\n",
    "print(f\"A: \\n{A}\\n\")\n",
    "\n",
    "b = 0.5\n",
    "print(f\"Scalar b: {b}\\n\")\n",
    "\n",
    "C = A * b\n",
    "print(f\"C: \\n{C}\")\n"
   ],
   "metadata": {
    "collapsed": false,
    "pycharm": {
     "name": "#%%\n",
     "is_executing": false
    }
   }
  }
 ],
 "metadata": {
  "kernelspec": {
   "name": "pycharm-f0b42db8",
   "language": "python",
   "display_name": "PyCharm (ML-Deep-Practices)"
  },
  "language_info": {
   "codemirror_mode": {
    "name": "ipython",
    "version": 2
   },
   "file_extension": ".py",
   "mimetype": "text/x-python",
   "name": "python",
   "nbconvert_exporter": "python",
   "pygments_lexer": "ipython2",
   "version": "2.7.6"
  },
  "pycharm": {
   "stem_cell": {
    "cell_type": "raw",
    "source": [],
    "metadata": {
     "collapsed": false
    }
   }
  }
 },
 "nbformat": 4,
 "nbformat_minor": 0
}