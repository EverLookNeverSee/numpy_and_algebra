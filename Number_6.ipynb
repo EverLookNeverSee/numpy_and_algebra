{
 "cells": [
  {
   "cell_type": "markdown",
   "metadata": {
    "collapsed": true,
    "pycharm": {
     "is_executing": false,
     "name": "#%% md\n"
    }
   },
   "source": [
    "## Matrices and Matrix Arithmetic\n",
    "### Defining a matrix:"
   ]
  },
  {
   "cell_type": "code",
   "execution_count": 1,
   "outputs": [
    {
     "name": "stdout",
     "text": [
      "A: \n",
      "[[1 2 3]\n",
      " [4 5 6]]\n"
     ],
     "output_type": "stream"
    }
   ],
   "source": [
    "from numpy import array\n",
    "\n",
    "A = array([[1, 2, 3],\n",
    "           [4, 5, 6]])\n",
    "print(f\"A: \\n{A}\")"
   ],
   "metadata": {
    "collapsed": false,
    "pycharm": {
     "name": "#%%\n",
     "is_executing": false
    }
   }
  },
  {
   "cell_type": "markdown",
   "source": [
    "### Matrix Arithmetic\n",
    "### Matrix Addition:"
   ],
   "metadata": {
    "collapsed": false
   }
  },
  {
   "cell_type": "code",
   "execution_count": 4,
   "outputs": [
    {
     "name": "stdout",
     "text": [
      "A: \n",
      "[[1 2 3]\n",
      " [4 5 6]]\n",
      "\n",
      "B: \n",
      "[[1 2 3]\n",
      " [4 5 6]]\n",
      "\n",
      "C: \n",
      "[[ 2  4  6]\n",
      " [ 8 10 12]]\n"
     ],
     "output_type": "stream"
    }
   ],
   "source": [
    "A = array([[1, 2, 3],\n",
    "           [4, 5, 6]])\n",
    "print(f\"A: \\n{A}\\n\")\n",
    "\n",
    "B = array([[1, 2, 3],\n",
    "           [4, 5, 6]])\n",
    "print(f\"B: \\n{B}\\n\")\n",
    "\n",
    "C = A + B\n",
    "print(f\"C: \\n{C}\")"
   ],
   "metadata": {
    "collapsed": false,
    "pycharm": {
     "name": "#%%\n",
     "is_executing": false
    }
   }
  },
  {
   "cell_type": "markdown",
   "source": [
    "### Matrix Subtraction:"
   ],
   "metadata": {
    "collapsed": false
   }
  },
  {
   "cell_type": "code",
   "execution_count": 5,
   "outputs": [
    {
     "name": "stdout",
     "text": [
      "C: \n",
      "[[0 0 0]\n",
      " [0 0 0]]\n"
     ],
     "output_type": "stream"
    }
   ],
   "source": [
    "C = A - B\n",
    "print(f\"C: \\n{C}\")\n"
   ],
   "metadata": {
    "collapsed": false,
    "pycharm": {
     "name": "#%%\n",
     "is_executing": false
    }
   }
  },
  {
   "cell_type": "code",
   "execution_count": null,
   "outputs": [],
   "source": [
    "\n"
   ],
   "metadata": {
    "collapsed": false,
    "pycharm": {
     "name": "#%%\n"
    }
   }
  },
  {
   "cell_type": "markdown",
   "source": [
    "\n"
   ],
   "metadata": {
    "collapsed": false
   }
  }
 ],
 "metadata": {
  "kernelspec": {
   "name": "pycharm-f0b42db8",
   "language": "python",
   "display_name": "PyCharm (ML-Deep-Practices)"
  },
  "language_info": {
   "codemirror_mode": {
    "name": "ipython",
    "version": 2
   },
   "file_extension": ".py",
   "mimetype": "text/x-python",
   "name": "python",
   "nbconvert_exporter": "python",
   "pygments_lexer": "ipython2",
   "version": "2.7.6"
  },
  "pycharm": {
   "stem_cell": {
    "cell_type": "raw",
    "source": [],
    "metadata": {
     "collapsed": false
    }
   }
  }
 },
 "nbformat": 4,
 "nbformat_minor": 0
}