{
 "cells": [
  {
   "cell_type": "code",
   "execution_count": 401,
   "metadata": {
    "collapsed": true,
    "pycharm": {
     "is_executing": false
    }
   },
   "outputs": [
    {
     "data": {
      "text/plain": "' Index, Slice and Reshape Numpy Arrays '"
     },
     "metadata": {},
     "output_type": "execute_result",
     "execution_count": 401
    }
   ],
   "source": [
    "\"\"\" Index, Slice and Reshape Numpy Arrays \"\"\""
   ]
  },
  {
   "cell_type": "code",
   "execution_count": 402,
   "outputs": [
    {
     "data": {
      "text/plain": "' from List to Arrays '"
     },
     "metadata": {},
     "output_type": "execute_result",
     "execution_count": 402
    }
   ],
   "source": [
    "\"\"\" from List to Arrays \"\"\""
   ],
   "metadata": {
    "collapsed": false,
    "pycharm": {
     "name": "#%%\n",
     "is_executing": false
    }
   }
  },
  {
   "cell_type": "code",
   "execution_count": 403,
   "outputs": [
    {
     "name": "stdout",
     "text": [
      "data: [11 22 33 44 55 66]\n",
      "\n",
      "type of data: <class 'numpy.ndarray'>\n"
     ],
     "output_type": "stream"
    }
   ],
   "source": [
    "\"\"\" One dimensional list to array \"\"\"\n",
    "import numpy as np\n",
    "data = [11, 22, 33, 44, 55, 66]\n",
    "data = np.array(data)\n",
    "print(f\"data: {data}\\n\")\n",
    "print(f\"type of data: {type(data)}\")"
   ],
   "metadata": {
    "collapsed": false,
    "pycharm": {
     "name": "#%%\n",
     "is_executing": false
    }
   }
  },
  {
   "cell_type": "code",
   "execution_count": 404,
   "outputs": [
    {
     "name": "stdout",
     "text": [
      "data1: [[11 22]\n",
      " [33 44]\n",
      " [55 66]]\n",
      "\n",
      "type of data1: <class 'numpy.ndarray'>\n"
     ],
     "output_type": "stream"
    }
   ],
   "source": [
    "\"\"\" Two dimensional list of lists to array \"\"\"\n",
    "data1 = [[11, 22],\n",
    "         [33, 44],\n",
    "         [55, 66]]\n",
    "data1 = np.array(data1)\n",
    "print(f\"data1: {data1}\\n\")\n",
    "print(f\"type of data1: {type(data1)}\")"
   ],
   "metadata": {
    "collapsed": false,
    "pycharm": {
     "name": "#%%\n",
     "is_executing": false
    }
   }
  },
  {
   "cell_type": "code",
   "execution_count": 405,
   "outputs": [
    {
     "data": {
      "text/plain": "' Array Indexing '"
     },
     "metadata": {},
     "output_type": "execute_result",
     "execution_count": 405
    }
   ],
   "source": [
    "\"\"\" Array Indexing \"\"\""
   ],
   "metadata": {
    "collapsed": false,
    "pycharm": {
     "name": "#%%\n",
     "is_executing": false
    }
   }
  },
  {
   "cell_type": "code",
   "execution_count": 406,
   "outputs": [
    {
     "name": "stdout",
     "text": [
      "data[0]: 11\n",
      "data[3]: 44\n"
     ],
     "output_type": "stream"
    }
   ],
   "source": [
    "\"\"\" One dimensional indexing \"\"\"\n",
    "print(f\"data[0]: {data[0]}\")\n",
    "print(f\"data[3]: {data[3]}\")"
   ],
   "metadata": {
    "collapsed": false,
    "pycharm": {
     "name": "#%%\n",
     "is_executing": false
    }
   }
  },
  {
   "cell_type": "code",
   "execution_count": 407,
   "outputs": [
    {
     "name": "stdout",
     "text": [
      "data[-1]: 66\n",
      "data[-3]: 44\n"
     ],
     "output_type": "stream"
    }
   ],
   "source": [
    "print(f\"data[-1]: {data[-1]}\")\n",
    "print(f\"data[-3]: {data[-3]}\")"
   ],
   "metadata": {
    "collapsed": false,
    "pycharm": {
     "name": "#%%\n",
     "is_executing": false
    }
   }
  },
  {
   "cell_type": "code",
   "execution_count": 408,
   "outputs": [
    {
     "name": "stdout",
     "text": [
      "data1[0, 0]: 11\n"
     ],
     "output_type": "stream"
    }
   ],
   "source": [
    "\"\"\" Two dimensional indexing \"\"\"\n",
    "print(f\"data1[0, 0]: {data1[0, 0]}\")"
   ],
   "metadata": {
    "collapsed": false,
    "pycharm": {
     "name": "#%%\n",
     "is_executing": false
    }
   }
  },
  {
   "cell_type": "code",
   "execution_count": 409,
   "outputs": [
    {
     "name": "stdout",
     "text": [
      "data1[0,]: [11 22]\n"
     ],
     "output_type": "stream"
    }
   ],
   "source": [
    "# all items in the first row:\n",
    "print(f\"data1[0,]: {data1[0, ]}\")"
   ],
   "metadata": {
    "collapsed": false,
    "pycharm": {
     "name": "#%%\n",
     "is_executing": false
    }
   }
  },
  {
   "cell_type": "code",
   "execution_count": 410,
   "outputs": [
    {
     "data": {
      "text/plain": "' Array Slicing '"
     },
     "metadata": {},
     "output_type": "execute_result",
     "execution_count": 410
    }
   ],
   "source": [
    "\"\"\" Array Slicing \"\"\""
   ],
   "metadata": {
    "collapsed": false,
    "pycharm": {
     "name": "#%%\n",
     "is_executing": false
    }
   }
  },
  {
   "cell_type": "code",
   "execution_count": 411,
   "outputs": [],
   "source": [
    "# The slice extends from the index and ends one item before the to index:\n",
    "# data[from:to -1]"
   ],
   "metadata": {
    "collapsed": false,
    "pycharm": {
     "name": "#%%\n",
     "is_executing": false
    }
   }
  },
  {
   "cell_type": "code",
   "execution_count": 412,
   "outputs": [
    {
     "name": "stdout",
     "text": [
      "data[:]: [11 22 33 44 55 66]\n"
     ],
     "output_type": "stream"
    }
   ],
   "source": [
    "\"\"\" One dimensional slicing \"\"\"\n",
    "# access all data in an array dimension by \n",
    "# specifying the slice ‘:’ with no indexes\n",
    "print(f\"data[:]: {data[:]}\")"
   ],
   "metadata": {
    "collapsed": false,
    "pycharm": {
     "name": "#%%\n",
     "is_executing": false
    }
   }
  },
  {
   "cell_type": "code",
   "execution_count": 413,
   "outputs": [
    {
     "name": "stdout",
     "text": [
      "data[0, 1]: [11]\n"
     ],
     "output_type": "stream"
    }
   ],
   "source": [
    "# The first item of the array can be sliced by specifying a slice \n",
    "# that starts at index 0 and ends at index 1 (one item before the to index).\n",
    "print(f\"data[0, 1]: {data[0: 1]}\")"
   ],
   "metadata": {
    "collapsed": false,
    "pycharm": {
     "name": "#%%\n",
     "is_executing": false
    }
   }
  },
  {
   "cell_type": "code",
   "execution_count": 414,
   "outputs": [
    {
     "name": "stdout",
     "text": [
      "data[-2:]: [55 66]\n"
     ],
     "output_type": "stream"
    }
   ],
   "source": [
    "# We can also use negative indexes in slices. For example, we can slice \n",
    "# the last two items in the list by starting the slice at -2 (the second\n",
    "# last item) and not specifying a to index; that takes the slice to the \n",
    "# end of the dimension.\n",
    "\n",
    "print(f\"data[-2:]: {data[-2:]}\")"
   ],
   "metadata": {
    "collapsed": false,
    "pycharm": {
     "name": "#%%\n",
     "is_executing": false
    }
   }
  },
  {
   "cell_type": "code",
   "execution_count": 415,
   "outputs": [
    {
     "data": {
      "text/plain": "' Two dimensional slicing '"
     },
     "metadata": {},
     "output_type": "execute_result",
     "execution_count": 415
    }
   ],
   "source": [
    "\"\"\" Two dimensional slicing \"\"\""
   ],
   "metadata": {
    "collapsed": false,
    "pycharm": {
     "name": "#%%\n",
     "is_executing": false
    }
   }
  },
  {
   "cell_type": "code",
   "execution_count": 416,
   "outputs": [
    {
     "data": {
      "text/plain": "' Split input and output features '"
     },
     "metadata": {},
     "output_type": "execute_result",
     "execution_count": 416
    }
   ],
   "source": [
    "\"\"\" Split input and output features \"\"\""
   ],
   "metadata": {
    "collapsed": false,
    "pycharm": {
     "name": "#%%\n",
     "is_executing": false
    }
   }
  },
  {
   "cell_type": "code",
   "execution_count": 417,
   "outputs": [],
   "source": [
    "# It is common to split your loaded data into input variables (X) and the \n",
    "# output variable (y). We can do this by slicing all rows and all columns\n",
    "# up to, but before the last column, then separately indexing the last\n",
    "# column. For the input features, we can select all rows and all columns except\n",
    "# the last one by specifying : for in the rows index, and :-1 in the columns index.\n",
    "\n",
    "# X = [:, :-1]\n",
    "\n",
    "# For the output column, we can select all rows again using : and index just\n",
    "# the last column by specifying the -1 index.\n",
    "\n",
    "# y = [:, -1]\n",
    "\n",
    "data2 = np.array([[11, 22, 33],\n",
    "                  [44, 55, 66],\n",
    "                  [77, 88, 99]])\n",
    "\n",
    "X, y = data2[:, :-1], data2[:, -1]"
   ],
   "metadata": {
    "collapsed": false,
    "pycharm": {
     "name": "#%%\n",
     "is_executing": false
    }
   }
  },
  {
   "cell_type": "code",
   "execution_count": 418,
   "outputs": [
    {
     "name": "stdout",
     "text": [
      "X:\n",
      "[[11 22]\n",
      " [44 55]\n",
      " [77 88]]\n",
      "\n"
     ],
     "output_type": "stream"
    }
   ],
   "source": [
    "print(f\"X:\\n{X}\\n\")"
   ],
   "metadata": {
    "collapsed": false,
    "pycharm": {
     "name": "#%%\n",
     "is_executing": false
    }
   }
  },
  {
   "cell_type": "code",
   "execution_count": 419,
   "outputs": [
    {
     "name": "stdout",
     "text": [
      "y:\n",
      "[33 66 99]\n"
     ],
     "output_type": "stream"
    }
   ],
   "source": [
    "print(f\"y:\\n{y}\")"
   ],
   "metadata": {
    "collapsed": false,
    "pycharm": {
     "name": "#%%\n",
     "is_executing": false
    }
   }
  },
  {
   "cell_type": "code",
   "execution_count": 420,
   "outputs": [
    {
     "data": {
      "text/plain": "' Split train and test rows '"
     },
     "metadata": {},
     "output_type": "execute_result",
     "execution_count": 420
    }
   ],
   "source": [
    "\"\"\" Split train and test rows \"\"\""
   ],
   "metadata": {
    "collapsed": false,
    "pycharm": {
     "name": "#%%\n",
     "is_executing": false
    }
   }
  },
  {
   "cell_type": "code",
   "execution_count": 421,
   "outputs": [],
   "source": [
    "# It is common to split a loaded dataset into separate train and test sets. \n",
    "# This is a splitting of rows where some portion will be used to train the\n",
    "# model and the remaining portion will be used to estimate the skill of the\n",
    "# trained model. This would involve slicing all columns by specifying : in\n",
    "# the second dimension index. The training dataset would be all rows from\n",
    "# the beginning to the split point.\n",
    "\n",
    "# train = data[:split, :]\n",
    "\n",
    "# The test dataset would be all rows starting from the split point to \n",
    "# the end of the dimension.\n",
    "\n",
    "# test[split:, :]\n",
    "\n",
    "# Putting all of this together, we can split the dataset at the contrived \n",
    "# split point of 2.\n",
    "\n",
    "split = 2\n",
    "train , test = data2[:split, :], data2[split:, :]"
   ],
   "metadata": {
    "collapsed": false,
    "pycharm": {
     "name": "#%%\n",
     "is_executing": false
    }
   }
  },
  {
   "cell_type": "code",
   "execution_count": 422,
   "outputs": [
    {
     "name": "stdout",
     "text": [
      "train:\n",
      "[[11 22 33]\n",
      " [44 55 66]]\n"
     ],
     "output_type": "stream"
    }
   ],
   "source": [
    "print(f\"train:\\n{train}\")"
   ],
   "metadata": {
    "collapsed": false,
    "pycharm": {
     "name": "#%%\n",
     "is_executing": false
    }
   }
  },
  {
   "cell_type": "code",
   "execution_count": 423,
   "outputs": [
    {
     "name": "stdout",
     "text": [
      "test:\n",
      "[[77 88 99]]\n"
     ],
     "output_type": "stream"
    }
   ],
   "source": [
    "print(f\"test:\\n{test}\")"
   ],
   "metadata": {
    "collapsed": false,
    "pycharm": {
     "name": "#%%\n",
     "is_executing": false
    }
   }
  },
  {
   "cell_type": "code",
   "execution_count": 424,
   "outputs": [
    {
     "data": {
      "text/plain": "' Array reshaping '"
     },
     "metadata": {},
     "output_type": "execute_result",
     "execution_count": 424
    }
   ],
   "source": [
    "\"\"\" Array reshaping \"\"\""
   ],
   "metadata": {
    "collapsed": false,
    "pycharm": {
     "name": "#%%\n",
     "is_executing": false
    }
   }
  },
  {
   "cell_type": "code",
   "execution_count": 425,
   "outputs": [
    {
     "data": {
      "text/plain": "' Data Shape '"
     },
     "metadata": {},
     "output_type": "execute_result",
     "execution_count": 425
    }
   ],
   "source": [
    "\"\"\" Data Shape \"\"\""
   ],
   "metadata": {
    "collapsed": false,
    "pycharm": {
     "name": "#%%\n",
     "is_executing": false
    }
   }
  },
  {
   "cell_type": "code",
   "execution_count": 426,
   "outputs": [
    {
     "name": "stdout",
     "text": [
      "shape of data: (6,)\n"
     ],
     "output_type": "stream"
    }
   ],
   "source": [
    "print(f\"shape of data: {data.shape}\")"
   ],
   "metadata": {
    "collapsed": false,
    "pycharm": {
     "name": "#%%\n",
     "is_executing": false
    }
   }
  },
  {
   "cell_type": "code",
   "execution_count": 427,
   "outputs": [
    {
     "name": "stdout",
     "text": [
      "shape of data2: (3, 3)\n"
     ],
     "output_type": "stream"
    }
   ],
   "source": [
    "print(f\"shape of data2: {data2.shape}\")"
   ],
   "metadata": {
    "collapsed": false,
    "pycharm": {
     "name": "#%%\n",
     "is_executing": false
    }
   }
  },
  {
   "cell_type": "code",
   "execution_count": 428,
   "outputs": [
    {
     "name": "stdout",
     "text": [
      "Rows: 3\n"
     ],
     "output_type": "stream"
    }
   ],
   "source": [
    "print(f\"Rows: {data2.shape[0]}\")"
   ],
   "metadata": {
    "collapsed": false,
    "pycharm": {
     "name": "#%%\n",
     "is_executing": false
    }
   }
  },
  {
   "cell_type": "code",
   "execution_count": 429,
   "outputs": [
    {
     "name": "stdout",
     "text": [
      "Columns: 3\n"
     ],
     "output_type": "stream"
    }
   ],
   "source": [
    "print(f\"Columns: {data2.shape[1]}\")"
   ],
   "metadata": {
    "collapsed": false,
    "pycharm": {
     "name": "#%%\n",
     "is_executing": false
    }
   }
  },
  {
   "cell_type": "code",
   "execution_count": 430,
   "outputs": [
    {
     "data": {
      "text/plain": "' Reshape 1D to 2D Array '"
     },
     "metadata": {},
     "output_type": "execute_result",
     "execution_count": 430
    }
   ],
   "source": [
    "\"\"\" Reshape 1D to 2D Array \"\"\""
   ],
   "metadata": {
    "collapsed": false,
    "pycharm": {
     "name": "#%%\n",
     "is_executing": false
    }
   }
  },
  {
   "cell_type": "code",
   "execution_count": 431,
   "outputs": [],
   "source": [
    "data_2d = data.reshape((data.shape[0], 1))"
   ],
   "metadata": {
    "collapsed": false,
    "pycharm": {
     "name": "#%%\n",
     "is_executing": false
    }
   }
  },
  {
   "cell_type": "code",
   "execution_count": 432,
   "outputs": [
    {
     "name": "stdout",
     "text": [
      "data_2d: [[11]\n",
      " [22]\n",
      " [33]\n",
      " [44]\n",
      " [55]\n",
      " [66]]\n"
     ],
     "output_type": "stream"
    }
   ],
   "source": [
    "print(f\"data_2d: {data_2d}\")"
   ],
   "metadata": {
    "collapsed": false,
    "pycharm": {
     "name": "#%%\n",
     "is_executing": false
    }
   }
  },
  {
   "cell_type": "code",
   "execution_count": 433,
   "outputs": [
    {
     "name": "stdout",
     "text": [
      "shape of data_2d: (6, 1)\n"
     ],
     "output_type": "stream"
    }
   ],
   "source": [
    "print(f\"shape of data_2d: {data_2d.shape}\")"
   ],
   "metadata": {
    "collapsed": false,
    "pycharm": {
     "name": "#%%\n",
     "is_executing": false
    }
   }
  },
  {
   "cell_type": "code",
   "execution_count": 434,
   "outputs": [
    {
     "data": {
      "text/plain": "' Reshape 2D to 3D array '"
     },
     "metadata": {},
     "output_type": "execute_result",
     "execution_count": 434
    }
   ],
   "source": [
    "\"\"\" Reshape 2D to 3D array \"\"\""
   ],
   "metadata": {
    "collapsed": false,
    "pycharm": {
     "name": "#%%\n",
     "is_executing": false
    }
   }
  },
  {
   "cell_type": "code",
   "execution_count": 435,
   "outputs": [],
   "source": [
    "data_3d = data2.reshape(data2.shape[0], data2.shape[1], 1)"
   ],
   "metadata": {
    "collapsed": false,
    "pycharm": {
     "name": "#%%\n",
     "is_executing": false
    }
   }
  },
  {
   "cell_type": "code",
   "execution_count": 436,
   "outputs": [
    {
     "name": "stdout",
     "text": [
      "data_3d: [[[11]\n",
      "  [22]\n",
      "  [33]]\n",
      "\n",
      " [[44]\n",
      "  [55]\n",
      "  [66]]\n",
      "\n",
      " [[77]\n",
      "  [88]\n",
      "  [99]]]\n"
     ],
     "output_type": "stream"
    }
   ],
   "source": [
    "print(f\"data_3d: {data_3d}\")"
   ],
   "metadata": {
    "collapsed": false,
    "pycharm": {
     "name": "#%%\n",
     "is_executing": false
    }
   }
  },
  {
   "cell_type": "code",
   "execution_count": 437,
   "outputs": [
    {
     "name": "stdout",
     "text": [
      "shape of data_3d: (3, 3, 1)\n"
     ],
     "output_type": "stream"
    }
   ],
   "source": [
    "print(f\"shape of data_3d: {data_3d.shape}\")\n"
   ],
   "metadata": {
    "collapsed": false,
    "pycharm": {
     "name": "#%%\n",
     "is_executing": false
    }
   }
  }
 ],
 "metadata": {
  "kernelspec": {
   "name": "pycharm-f0b42db8",
   "language": "python",
   "display_name": "PyCharm (ML-Deep-Practices)"
  },
  "language_info": {
   "codemirror_mode": {
    "name": "ipython",
    "version": 2
   },
   "file_extension": ".py",
   "mimetype": "text/x-python",
   "name": "python",
   "nbconvert_exporter": "python",
   "pygments_lexer": "ipython2",
   "version": "2.7.6"
  },
  "pycharm": {
   "stem_cell": {
    "cell_type": "raw",
    "source": [],
    "metadata": {
     "collapsed": false
    }
   }
  }
 },
 "nbformat": 4,
 "nbformat_minor": 0
}