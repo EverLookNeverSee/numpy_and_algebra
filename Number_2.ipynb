{
 "cells": [
  {
   "cell_type": "code",
   "execution_count": 171,
   "metadata": {
    "collapsed": true,
    "pycharm": {
     "is_executing": false
    }
   },
   "outputs": [
    {
     "data": {
      "text/plain": "' Index, Slice and Reshape Numpy Arrays '"
     },
     "metadata": {},
     "output_type": "execute_result",
     "execution_count": 171
    }
   ],
   "source": [
    "\"\"\" Index, Slice and Reshape Numpy Arrays \"\"\""
   ]
  },
  {
   "cell_type": "code",
   "execution_count": 172,
   "outputs": [
    {
     "data": {
      "text/plain": "' from List to Arrays '"
     },
     "metadata": {},
     "output_type": "execute_result",
     "execution_count": 172
    }
   ],
   "source": [
    "\"\"\" from List to Arrays \"\"\""
   ],
   "metadata": {
    "collapsed": false,
    "pycharm": {
     "name": "#%%\n",
     "is_executing": false
    }
   }
  },
  {
   "cell_type": "code",
   "execution_count": 173,
   "outputs": [
    {
     "name": "stdout",
     "text": [
      "data: [11 22 33 44 55 66]\n",
      "\n",
      "type of data: <class 'numpy.ndarray'>\n"
     ],
     "output_type": "stream"
    }
   ],
   "source": [
    "\"\"\" One dimensional list to array \"\"\"\n",
    "import numpy as np\n",
    "data = [11, 22, 33, 44, 55, 66]\n",
    "data = np.array(data)\n",
    "print(f\"data: {data}\\n\")\n",
    "print(f\"type of data: {type(data)}\")"
   ],
   "metadata": {
    "collapsed": false,
    "pycharm": {
     "name": "#%%\n",
     "is_executing": false
    }
   }
  },
  {
   "cell_type": "code",
   "execution_count": 174,
   "outputs": [
    {
     "name": "stdout",
     "text": [
      "data1: [[11 22]\n",
      " [33 44]\n",
      " [55 66]]\n",
      "\n",
      "type of data1: <class 'numpy.ndarray'>\n"
     ],
     "output_type": "stream"
    }
   ],
   "source": [
    "\"\"\" Two dimensional list of lists to array \"\"\"\n",
    "data1 = [[11, 22],\n",
    "         [33, 44],\n",
    "         [55, 66]]\n",
    "data1 = np.array(data1)\n",
    "print(f\"data1: {data1}\\n\")\n",
    "print(f\"type of data1: {type(data1)}\")"
   ],
   "metadata": {
    "collapsed": false,
    "pycharm": {
     "name": "#%%\n",
     "is_executing": false
    }
   }
  },
  {
   "cell_type": "code",
   "execution_count": 175,
   "outputs": [
    {
     "data": {
      "text/plain": "' Array Indexing '"
     },
     "metadata": {},
     "output_type": "execute_result",
     "execution_count": 175
    }
   ],
   "source": [
    "\"\"\" Array Indexing \"\"\""
   ],
   "metadata": {
    "collapsed": false,
    "pycharm": {
     "name": "#%%\n",
     "is_executing": false
    }
   }
  },
  {
   "cell_type": "code",
   "execution_count": 176,
   "outputs": [
    {
     "name": "stdout",
     "text": [
      "data[0]: 11\n",
      "data[3]: 44\n"
     ],
     "output_type": "stream"
    }
   ],
   "source": [
    "\"\"\" One dimensional indexing \"\"\"\n",
    "print(f\"data[0]: {data[0]}\")\n",
    "print(f\"data[3]: {data[3]}\")"
   ],
   "metadata": {
    "collapsed": false,
    "pycharm": {
     "name": "#%%\n",
     "is_executing": false
    }
   }
  },
  {
   "cell_type": "code",
   "execution_count": 177,
   "outputs": [
    {
     "name": "stdout",
     "text": [
      "data[-1]: 66\n",
      "data[-3]: 44\n"
     ],
     "output_type": "stream"
    }
   ],
   "source": [
    "print(f\"data[-1]: {data[-1]}\")\n",
    "print(f\"data[-3]: {data[-3]}\")"
   ],
   "metadata": {
    "collapsed": false,
    "pycharm": {
     "name": "#%%\n",
     "is_executing": false
    }
   }
  },
  {
   "cell_type": "code",
   "execution_count": 178,
   "outputs": [
    {
     "name": "stdout",
     "text": [
      "data1[0, 0]: 11\n"
     ],
     "output_type": "stream"
    }
   ],
   "source": [
    "\"\"\" Two dimensional indexing \"\"\"\n",
    "print(f\"data1[0, 0]: {data1[0, 0]}\")"
   ],
   "metadata": {
    "collapsed": false,
    "pycharm": {
     "name": "#%%\n",
     "is_executing": false
    }
   }
  },
  {
   "cell_type": "code",
   "execution_count": 179,
   "outputs": [
    {
     "name": "stdout",
     "text": [
      "data1[0,]: [11 22]\n"
     ],
     "output_type": "stream"
    }
   ],
   "source": [
    "# all items in the first row:\n",
    "print(f\"data1[0,]: {data1[0, ]}\")"
   ],
   "metadata": {
    "collapsed": false,
    "pycharm": {
     "name": "#%%\n",
     "is_executing": false
    }
   }
  },
  {
   "cell_type": "code",
   "execution_count": 180,
   "outputs": [
    {
     "data": {
      "text/plain": "' Array Slicing '"
     },
     "metadata": {},
     "output_type": "execute_result",
     "execution_count": 180
    }
   ],
   "source": [
    "\"\"\" Array Slicing \"\"\""
   ],
   "metadata": {
    "collapsed": false,
    "pycharm": {
     "name": "#%%\n",
     "is_executing": false
    }
   }
  },
  {
   "cell_type": "code",
   "execution_count": 181,
   "outputs": [],
   "source": [
    "# The slice extends from the index and ends one item before the to index:\n",
    "# data[from:to -1]"
   ],
   "metadata": {
    "collapsed": false,
    "pycharm": {
     "name": "#%%\n",
     "is_executing": false
    }
   }
  },
  {
   "cell_type": "code",
   "execution_count": 182,
   "outputs": [
    {
     "name": "stdout",
     "text": [
      "data[:]: [11 22 33 44 55 66]\n"
     ],
     "output_type": "stream"
    }
   ],
   "source": [
    "\"\"\" One dimensional slicing \"\"\"\n",
    "# access all data in an array dimension by \n",
    "# specifying the slice ‘:’ with no indexes\n",
    "print(f\"data[:]: {data[:]}\")"
   ],
   "metadata": {
    "collapsed": false,
    "pycharm": {
     "name": "#%%\n",
     "is_executing": false
    }
   }
  },
  {
   "cell_type": "code",
   "execution_count": 183,
   "outputs": [
    {
     "name": "stdout",
     "text": [
      "data[0, 1]: [11]\n"
     ],
     "output_type": "stream"
    }
   ],
   "source": [
    "# The first item of the array can be sliced by specifying a slice \n",
    "# that starts at index 0 and ends at index 1 (one item before the to index).\n",
    "print(f\"data[0, 1]: {data[0: 1]}\")"
   ],
   "metadata": {
    "collapsed": false,
    "pycharm": {
     "name": "#%%\n",
     "is_executing": false
    }
   }
  },
  {
   "cell_type": "code",
   "execution_count": 184,
   "outputs": [
    {
     "name": "stdout",
     "text": [
      "data[-2:]: [55 66]\n"
     ],
     "output_type": "stream"
    }
   ],
   "source": [
    "# We can also use negative indexes in slices. For example, we can slice \n",
    "# the last two items in the list by starting the slice at -2 (the second\n",
    "# last item) and not specifying a to index; that takes the slice to the \n",
    "# end of the dimension.\n",
    "\n",
    "print(f\"data[-2:]: {data[-2:]}\")"
   ],
   "metadata": {
    "collapsed": false,
    "pycharm": {
     "name": "#%%\n",
     "is_executing": false
    }
   }
  },
  {
   "cell_type": "code",
   "execution_count": 185,
   "outputs": [
    {
     "data": {
      "text/plain": "' Two dimensional slicing '"
     },
     "metadata": {},
     "output_type": "execute_result",
     "execution_count": 185
    }
   ],
   "source": [
    "\"\"\" Two dimensional slicing \"\"\""
   ],
   "metadata": {
    "collapsed": false,
    "pycharm": {
     "name": "#%%\n",
     "is_executing": false
    }
   }
  },
  {
   "cell_type": "code",
   "execution_count": 186,
   "outputs": [
    {
     "data": {
      "text/plain": "' Split input and output features '"
     },
     "metadata": {},
     "output_type": "execute_result",
     "execution_count": 186
    }
   ],
   "source": [
    "\"\"\" Split input and output features \"\"\""
   ],
   "metadata": {
    "collapsed": false,
    "pycharm": {
     "name": "#%%\n",
     "is_executing": false
    }
   }
  },
  {
   "cell_type": "code",
   "execution_count": 187,
   "outputs": [],
   "source": [
    "# It is common to split your loaded data into input variables (X) and the \n",
    "# output variable (y). We can do this by slicing all rows and all columns\n",
    "# up to, but before the last column, then separately indexing the last\n",
    "# column. For the input features, we can select all rows and all columns except\n",
    "# the last one by specifying : for in the rows index, and :-1 in the columns index.\n",
    "\n",
    "# X = [:, :-1]\n",
    "\n",
    "# For the output column, we can select all rows again using : and index just\n",
    "# the last column by specifying the -1 index.\n",
    "\n",
    "# y = [:, -1]\n",
    "\n",
    "data2 = np.array([[11, 22, 33],\n",
    "                  [44, 55, 66],\n",
    "                  [77, 88, 99]])\n",
    "\n",
    "X, y = data2[:, :-1], data2[:, -1]"
   ],
   "metadata": {
    "collapsed": false,
    "pycharm": {
     "name": "#%%\n",
     "is_executing": false
    }
   }
  },
  {
   "cell_type": "code",
   "execution_count": 188,
   "outputs": [
    {
     "name": "stdout",
     "text": [
      "X:\n",
      "[[11 22]\n",
      " [44 55]\n",
      " [77 88]]\n",
      "\n"
     ],
     "output_type": "stream"
    }
   ],
   "source": [
    "print(f\"X:\\n{X}\\n\")"
   ],
   "metadata": {
    "collapsed": false,
    "pycharm": {
     "name": "#%%\n",
     "is_executing": false
    }
   }
  },
  {
   "cell_type": "code",
   "execution_count": 189,
   "outputs": [
    {
     "name": "stdout",
     "text": [
      "y:\n",
      "[33 66 99]\n"
     ],
     "output_type": "stream"
    }
   ],
   "source": [
    "print(f\"y:\\n{y}\")\n"
   ],
   "metadata": {
    "collapsed": false,
    "pycharm": {
     "name": "#%%\n",
     "is_executing": false
    }
   }
  }
 ],
 "metadata": {
  "kernelspec": {
   "name": "pycharm-f0b42db8",
   "language": "python",
   "display_name": "PyCharm (ML-Deep-Practices)"
  },
  "language_info": {
   "codemirror_mode": {
    "name": "ipython",
    "version": 2
   },
   "file_extension": ".py",
   "mimetype": "text/x-python",
   "name": "python",
   "nbconvert_exporter": "python",
   "pygments_lexer": "ipython2",
   "version": "2.7.6"
  },
  "pycharm": {
   "stem_cell": {
    "cell_type": "raw",
    "source": [],
    "metadata": {
     "collapsed": false
    }
   }
  }
 },
 "nbformat": 4,
 "nbformat_minor": 0
}