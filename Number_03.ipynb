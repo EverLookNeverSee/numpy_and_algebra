{
 "cells": [
  {
   "cell_type": "markdown",
   "metadata": {
    "collapsed": true,
    "pycharm": {
     "is_executing": false,
     "name": "#%% md\n"
    }
   },
   "source": [
    "## Numpy Array Broadcasting\n",
    "### Scalar and one dimensional array:"
   ]
  },
  {
   "cell_type": "code",
   "execution_count": 19,
   "outputs": [
    {
     "name": "stdout",
     "text": [
      "a = [1 2 3]\n",
      "b = 2\n",
      "c = [3 4 5]\n"
     ],
     "output_type": "stream"
    }
   ],
   "source": [
    "# broadcasting scalar to one-dimensional array\n",
    "import numpy as np\n",
    "\n",
    "a = np.array([1, 2, 3])\n",
    "print(f\"a = {a}\")\n",
    "\n",
    "# define scalar\n",
    "b = 2\n",
    "print(f\"b = {b}\")\n",
    "\n",
    "# broadcast\n",
    "c = a + b\n",
    "print(f\"c = {c}\")"
   ],
   "metadata": {
    "collapsed": false,
    "pycharm": {
     "name": "#%%\n",
     "is_executing": false
    }
   }
  },
  {
   "cell_type": "markdown",
   "source": [
    "### Scalar and two-dimensional array:"
   ],
   "metadata": {
    "collapsed": false,
    "pycharm": {
     "name": "#%% md\n",
     "is_executing": false
    }
   }
  },
  {
   "cell_type": "code",
   "execution_count": 20,
   "outputs": [
    {
     "name": "stdout",
     "text": [
      "d = \n",
      "[[1 2 3]\n",
      " [1 2 3]]\n",
      "\n",
      "e = 2\n",
      "\n",
      "f = \n",
      "[[3 4 5]\n",
      " [3 4 5]]\n"
     ],
     "output_type": "stream"
    }
   ],
   "source": [
    "# broadcast scalar to two-dimensional array\n",
    "d = np.array([[1, 2, 3],\n",
    "              [1, 2, 3]])\n",
    "print(f\"d = \\n{d}\\n\")\n",
    "\n",
    "#define scalar\n",
    "e = 2\n",
    "print(f\"e = {e}\\n\")\n",
    "\n",
    "# broadcast\n",
    "f = d + e\n",
    "print(f\"f = \\n{f}\")"
   ],
   "metadata": {
    "collapsed": false,
    "pycharm": {
     "name": "#%%\n",
     "is_executing": false
    }
   }
  },
  {
   "cell_type": "markdown",
   "source": [
    "### One dimensional and two dimensional arrays:"
   ],
   "metadata": {
    "collapsed": false,
    "pycharm": {
     "name": "#%% md\n",
     "is_executing": false
    }
   }
  },
  {
   "cell_type": "code",
   "execution_count": 21,
   "outputs": [
    {
     "name": "stdout",
     "text": [
      "A = \n",
      "[[1 2 3]\n",
      " [1 2 3]]\n",
      "\n",
      "b = [1 2 3]\n",
      "\n",
      "C = \n",
      "[[2 4 6]\n",
      " [2 4 6]]\n"
     ],
     "output_type": "stream"
    }
   ],
   "source": [
    "# broadcast one-dimensional array to two-dimensional array\n",
    "A = np.array([[1, 2, 3],\n",
    "              [1, 2, 3]])\n",
    "print(f\"A = \\n{A}\\n\")\n",
    "\n",
    "b = np.array([1, 2, 3])\n",
    "print(f\"b = {b}\\n\")\n",
    "\n",
    "# broadcast\n",
    "C = A + b\n",
    "print(f\"C = \\n{C}\")"
   ],
   "metadata": {
    "collapsed": false,
    "pycharm": {
     "name": "#%%\n",
     "is_executing": false
    }
   }
  },
  {
   "cell_type": "markdown",
   "source": [
    "\n",
    "### Limitations of broadcasting:"
   ],
   "metadata": {
    "collapsed": false,
    "pycharm": {
     "name": "#%% md\n",
     "is_executing": false
    }
   }
  },
  {
   "cell_type": "code",
   "execution_count": 22,
   "outputs": [
    {
     "name": "stdout",
     "text": [
      "Shape of A = (2, 3)\n",
      "Shape of b = (2,)\n"
     ],
     "output_type": "stream"
    },
    {
     "traceback": [
      "\u001b[0;31m---------------------------------------------------------------------------\u001b[0m",
      "\u001b[0;31mValueError\u001b[0m                                Traceback (most recent call last)",
      "\u001b[0;32m<ipython-input-22-20f7ae975544>\u001b[0m in \u001b[0;36m<module>\u001b[0;34m\u001b[0m\n\u001b[1;32m      5\u001b[0m \u001b[0mprint\u001b[0m\u001b[0;34m(\u001b[0m\u001b[0;34mf\"Shape of b = {b.shape}\"\u001b[0m\u001b[0;34m)\u001b[0m\u001b[0;34m\u001b[0m\u001b[0;34m\u001b[0m\u001b[0m\n\u001b[1;32m      6\u001b[0m \u001b[0;34m\u001b[0m\u001b[0m\n\u001b[0;32m----> 7\u001b[0;31m \u001b[0mC\u001b[0m \u001b[0;34m=\u001b[0m \u001b[0mA\u001b[0m \u001b[0;34m+\u001b[0m \u001b[0mb\u001b[0m\u001b[0;34m\u001b[0m\u001b[0;34m\u001b[0m\u001b[0m\n\u001b[0m\u001b[1;32m      8\u001b[0m \u001b[0mprint\u001b[0m\u001b[0;34m(\u001b[0m\u001b[0mC\u001b[0m\u001b[0;34m)\u001b[0m\u001b[0;34m\u001b[0m\u001b[0;34m\u001b[0m\u001b[0m\n\u001b[1;32m      9\u001b[0m \u001b[0;34m\u001b[0m\u001b[0m\n",
      "\u001b[0;31mValueError\u001b[0m: operands could not be broadcast together with shapes (2,3) (2,) "
     ],
     "ename": "ValueError",
     "evalue": "operands could not be broadcast together with shapes (2,3) (2,) ",
     "output_type": "error"
    }
   ],
   "source": [
    "# broadcasting error\n",
    "print(f\"Shape of A = {A.shape}\")\n",
    "\n",
    "b = np.array([1, 2])\n",
    "print(f\"Shape of b = {b.shape}\")\n",
    "\n",
    "C = A + b\n",
    "print(C)\n"
   ],
   "metadata": {
    "collapsed": false,
    "pycharm": {
     "name": "#%%\n",
     "is_executing": false
    }
   }
  }
 ],
 "metadata": {
  "kernelspec": {
   "name": "pycharm-f0b42db8",
   "language": "python",
   "display_name": "PyCharm (ML-Deep-Practices)"
  },
  "language_info": {
   "codemirror_mode": {
    "name": "ipython",
    "version": 2
   },
   "file_extension": ".py",
   "mimetype": "text/x-python",
   "name": "python",
   "nbconvert_exporter": "python",
   "pygments_lexer": "ipython2",
   "version": "2.7.6"
  },
  "pycharm": {
   "stem_cell": {
    "cell_type": "raw",
    "source": [],
    "metadata": {
     "collapsed": false
    }
   }
  }
 },
 "nbformat": 4,
 "nbformat_minor": 0
}