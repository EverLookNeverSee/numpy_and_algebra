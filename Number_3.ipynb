{
 "cells": [
  {
   "cell_type": "code",
   "execution_count": 5,
   "metadata": {
    "collapsed": true,
    "pycharm": {
     "is_executing": false
    }
   },
   "outputs": [
    {
     "data": {
      "text/plain": "' Numpy Array Broadcasting '"
     },
     "metadata": {},
     "output_type": "execute_result",
     "execution_count": 5
    }
   ],
   "source": [
    "\"\"\" Numpy Array Broadcasting \"\"\""
   ]
  },
  {
   "cell_type": "code",
   "execution_count": 7,
   "outputs": [
    {
     "name": "stdout",
     "text": [
      "a = [1 2 3]\n",
      "b = 2\n",
      "c = [3 4 5]\n"
     ],
     "output_type": "stream"
    }
   ],
   "source": [
    "\"Scalar and one dimensional array\"\n",
    "\n",
    "# broadcasting scalar to one-dimensional array\n",
    "import numpy as np\n",
    "\n",
    "a = np.array([1, 2, 3])\n",
    "print(f\"a = {a}\")\n",
    "\n",
    "# define scalar\n",
    "b = 2\n",
    "print(f\"b = {b}\")\n",
    "\n",
    "# broadcast\n",
    "c = a + b\n",
    "print(f\"c = {c}\")"
   ],
   "metadata": {
    "collapsed": false,
    "pycharm": {
     "name": "#%%\n",
     "is_executing": false
    }
   }
  },
  {
   "cell_type": "code",
   "execution_count": null,
   "outputs": [],
   "source": [
    "\"Scalar and two-dimensional array\"\n",
    "\n",
    "# broadcast scalar to two-dimensional array\n",
    "d = np.array([[1, 2, 3],\n",
    "              [1, 2, 3]])\n",
    "print(f\"d = {d}\\n\")\n",
    "\n",
    "#define scalar\n",
    "e = 2\n",
    "print(f\"e = {e}\\n\")\n",
    "\n",
    "# broadcast\n",
    "f = d + e\n",
    "print(f\"f = {f}\")"
   ],
   "metadata": {
    "collapsed": false,
    "pycharm": {
     "name": "#%%\n"
    }
   }
  },
  {
   "cell_type": "code",
   "execution_count": 10,
   "outputs": [
    {
     "name": "stdout",
     "text": [
      "A = [[1 2 3]\n",
      " [1 2 3]]\n",
      "\n",
      "b = [1 2 3]\n",
      "\n",
      "C = [[2 4 6]\n",
      " [2 4 6]]\n"
     ],
     "output_type": "stream"
    }
   ],
   "source": [
    "\"\"\"One dimensional and two dimensional arrays\"\"\"\n",
    "\n",
    "# broadcast one-dimensional array to two-dimensional array\n",
    "A = np.array([[1, 2, 3],\n",
    "              [1, 2, 3]])\n",
    "print(f\"A = {A}\\n\")\n",
    "\n",
    "b = np.array([1, 2, 3])\n",
    "print(f\"b = {b}\\n\")\n",
    "\n",
    "# broadcast\n",
    "C = A + b\n",
    "print(f\"C = {C}\")"
   ],
   "metadata": {
    "collapsed": false,
    "pycharm": {
     "name": "#%%\n",
     "is_executing": false
    }
   }
  },
  {
   "cell_type": "code",
   "execution_count": null,
   "outputs": [],
   "source": [
    "\n"
   ],
   "metadata": {
    "collapsed": false,
    "pycharm": {
     "name": "#%%\n"
    }
   }
  }
 ],
 "metadata": {
  "kernelspec": {
   "name": "pycharm-f0b42db8",
   "language": "python",
   "display_name": "PyCharm (ML-Deep-Practices)"
  },
  "language_info": {
   "codemirror_mode": {
    "name": "ipython",
    "version": 2
   },
   "file_extension": ".py",
   "mimetype": "text/x-python",
   "name": "python",
   "nbconvert_exporter": "python",
   "pygments_lexer": "ipython2",
   "version": "2.7.6"
  },
  "pycharm": {
   "stem_cell": {
    "cell_type": "raw",
    "source": [],
    "metadata": {
     "collapsed": false
    }
   }
  }
 },
 "nbformat": 4,
 "nbformat_minor": 0
}