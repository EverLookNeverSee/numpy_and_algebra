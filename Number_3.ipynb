{
 "cells": [
  {
   "cell_type": "code",
   "execution_count": 12,
   "metadata": {
    "collapsed": true,
    "pycharm": {
     "is_executing": false
    }
   },
   "outputs": [
    {
     "data": {
      "text/plain": "' Numpy Array Broadcasting '"
     },
     "metadata": {},
     "output_type": "execute_result",
     "execution_count": 12
    }
   ],
   "source": [
    "\"\"\" Numpy Array Broadcasting \"\"\""
   ]
  },
  {
   "cell_type": "code",
   "execution_count": 13,
   "outputs": [
    {
     "name": "stdout",
     "text": [
      "a = [1 2 3]\n",
      "b = 2\n",
      "c = [3 4 5]\n"
     ],
     "output_type": "stream"
    }
   ],
   "source": [
    "\"Scalar and one dimensional array\"\n",
    "\n",
    "# broadcasting scalar to one-dimensional array\n",
    "import numpy as np\n",
    "\n",
    "a = np.array([1, 2, 3])\n",
    "print(f\"a = {a}\")\n",
    "\n",
    "# define scalar\n",
    "b = 2\n",
    "print(f\"b = {b}\")\n",
    "\n",
    "# broadcast\n",
    "c = a + b\n",
    "print(f\"c = {c}\")"
   ],
   "metadata": {
    "collapsed": false,
    "pycharm": {
     "name": "#%%\n",
     "is_executing": false
    }
   }
  },
  {
   "cell_type": "code",
   "execution_count": 14,
   "outputs": [
    {
     "name": "stdout",
     "text": [
      "d = [[1 2 3]\n",
      " [1 2 3]]\n",
      "\n",
      "e = 2\n",
      "\n",
      "f = [[3 4 5]\n",
      " [3 4 5]]\n"
     ],
     "output_type": "stream"
    }
   ],
   "source": [
    "\"Scalar and two-dimensional array\"\n",
    "\n",
    "# broadcast scalar to two-dimensional array\n",
    "d = np.array([[1, 2, 3],\n",
    "              [1, 2, 3]])\n",
    "print(f\"d = {d}\\n\")\n",
    "\n",
    "#define scalar\n",
    "e = 2\n",
    "print(f\"e = {e}\\n\")\n",
    "\n",
    "# broadcast\n",
    "f = d + e\n",
    "print(f\"f = {f}\")"
   ],
   "metadata": {
    "collapsed": false,
    "pycharm": {
     "name": "#%%\n",
     "is_executing": false
    }
   }
  },
  {
   "cell_type": "code",
   "execution_count": 15,
   "outputs": [
    {
     "name": "stdout",
     "text": [
      "A = [[1 2 3]\n",
      " [1 2 3]]\n",
      "\n",
      "b = [1 2 3]\n",
      "\n",
      "C = [[2 4 6]\n",
      " [2 4 6]]\n"
     ],
     "output_type": "stream"
    }
   ],
   "source": [
    "\"\"\"One dimensional and two dimensional arrays\"\"\"\n",
    "\n",
    "# broadcast one-dimensional array to two-dimensional array\n",
    "A = np.array([[1, 2, 3],\n",
    "              [1, 2, 3]])\n",
    "print(f\"A = {A}\\n\")\n",
    "\n",
    "b = np.array([1, 2, 3])\n",
    "print(f\"b = {b}\\n\")\n",
    "\n",
    "# broadcast\n",
    "C = A + b\n",
    "print(f\"C = {C}\")"
   ],
   "metadata": {
    "collapsed": false,
    "pycharm": {
     "name": "#%%\n",
     "is_executing": false
    }
   }
  },
  {
   "cell_type": "code",
   "execution_count": 16,
   "outputs": [
    {
     "name": "stdout",
     "text": [
      "Shape of A = (2, 3)\n",
      "Shape of b = (2,)\n"
     ],
     "output_type": "stream"
    },
    {
     "traceback": [
      "\u001b[0;31m---------------------------------------------------------------------------\u001b[0m",
      "\u001b[0;31mValueError\u001b[0m                                Traceback (most recent call last)",
      "\u001b[0;32m<ipython-input-16-e60aafb7e1b2>\u001b[0m in \u001b[0;36m<module>\u001b[0;34m\u001b[0m\n\u001b[1;32m      8\u001b[0m \u001b[0mprint\u001b[0m\u001b[0;34m(\u001b[0m\u001b[0;34mf\"Shape of b = {b.shape}\"\u001b[0m\u001b[0;34m)\u001b[0m\u001b[0;34m\u001b[0m\u001b[0;34m\u001b[0m\u001b[0m\n\u001b[1;32m      9\u001b[0m \u001b[0;34m\u001b[0m\u001b[0m\n\u001b[0;32m---> 10\u001b[0;31m \u001b[0mC\u001b[0m \u001b[0;34m=\u001b[0m \u001b[0mA\u001b[0m \u001b[0;34m+\u001b[0m \u001b[0mb\u001b[0m\u001b[0;34m\u001b[0m\u001b[0;34m\u001b[0m\u001b[0m\n\u001b[0m\u001b[1;32m     11\u001b[0m \u001b[0mprint\u001b[0m\u001b[0;34m(\u001b[0m\u001b[0mC\u001b[0m\u001b[0;34m)\u001b[0m\u001b[0;34m\u001b[0m\u001b[0;34m\u001b[0m\u001b[0m\n\u001b[1;32m     12\u001b[0m \u001b[0;34m\u001b[0m\u001b[0m\n",
      "\u001b[0;31mValueError\u001b[0m: operands could not be broadcast together with shapes (2,3) (2,) "
     ],
     "ename": "ValueError",
     "evalue": "operands could not be broadcast together with shapes (2,3) (2,) ",
     "output_type": "error"
    }
   ],
   "source": [
    "\n",
    "\"\"\" Limitations of broadcasting \"\"\"\n",
    "\n",
    "\n",
    "# broadcasting error\n",
    "print(f\"Shape of A = {A.shape}\")\n",
    "\n",
    "b = np.array([1, 2])\n",
    "print(f\"Shape of b = {b.shape}\")\n",
    "\n",
    "C = A + b\n",
    "print(C)\n"
   ],
   "metadata": {
    "collapsed": false,
    "pycharm": {
     "name": "#%%\n",
     "is_executing": false
    }
   }
  }
 ],
 "metadata": {
  "kernelspec": {
   "name": "pycharm-f0b42db8",
   "language": "python",
   "display_name": "PyCharm (ML-Deep-Practices)"
  },
  "language_info": {
   "codemirror_mode": {
    "name": "ipython",
    "version": 2
   },
   "file_extension": ".py",
   "mimetype": "text/x-python",
   "name": "python",
   "nbconvert_exporter": "python",
   "pygments_lexer": "ipython2",
   "version": "2.7.6"
  },
  "pycharm": {
   "stem_cell": {
    "cell_type": "raw",
    "source": [],
    "metadata": {
     "collapsed": false
    }
   }
  }
 },
 "nbformat": 4,
 "nbformat_minor": 0
}