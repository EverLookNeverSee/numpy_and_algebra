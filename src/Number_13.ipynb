{
 "cells": [
  {
   "cell_type": "markdown",
   "metadata": {
    "collapsed": true,
    "pycharm": {
     "is_executing": false,
     "name": "#%% md\n"
    }
   },
   "source": [
    "## Singular Value Decomposition\n",
    "### What is the singular value decomposition?\n",
    "    The Singular-Value Decomposition, or SVD for short, is a matrix\n",
    "    decomposition method for reducing a matrix to its constituent parts\n",
    "    in order to make certain subsequent matrix calculations simpler. For\n",
    "    the case of simplicity we will focus on the SVD for real-valued matrices\n",
    "    and ignore the case for complex numbers.\n",
    "    \n",
    "        $$e^x=\\sum_{i=0}^\\infty \\frac{1}{i!}x^i$$"
   ]
  },
  {
   "cell_type": "code",
   "execution_count": null,
   "metadata": {
    "pycharm": {
     "name": "#%%\n"
    }
   },
   "outputs": [],
   "source": [
    "\n"
   ]
  }
 ],
 "metadata": {
  "kernelspec": {
   "display_name": "PyCharm (numpy_and_algebra)",
   "language": "python",
   "name": "pycharm-34aae690"
  },
  "language_info": {
   "codemirror_mode": {
    "name": "ipython",
    "version": 3
   },
   "file_extension": ".py",
   "mimetype": "text/x-python",
   "name": "python",
   "nbconvert_exporter": "python",
   "pygments_lexer": "ipython3",
   "version": "3.8.1"
  },
  "pycharm": {
   "stem_cell": {
    "cell_type": "raw",
    "metadata": {
     "collapsed": false
    },
    "source": []
   }
  }
 },
 "nbformat": 4,
 "nbformat_minor": 1
}
