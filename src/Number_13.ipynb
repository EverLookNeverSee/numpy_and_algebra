{
 "cells": [
  {
   "cell_type": "markdown",
   "metadata": {
    "collapsed": true,
    "pycharm": {
     "is_executing": false,
     "name": "#%% md\n"
    }
   },
   "source": [
    "## Singular Value Decomposition\n",
    "### What is the singular value decomposition?\n",
    "\n",
    "The Singular-Value Decomposition, or SVD for short, is a matrix\n",
    "decomposition method for reducing a matrix to its constituent parts\n",
    "in order to make certain subsequent matrix calculations simpler. For\n",
    "the case of simplicity we will focus on the SVD for real-valued matrices\n",
    "and ignore the case for complex numbers.\n",
    "    \n",
    "\n",
    "$$A = U . \\Sigma . V^{T}$$\n",
    "\n",
    "\n",
    "Where $A$ is the real $n \\times m$ matrix that we wish to decompose, $U$ is an\n",
    "$m \\times m$ matrix, $\\Sigma$ represented by the uppercase Greek letter sigma)\n",
    "is an $m \\times n$ diagonal matrix, and $V^{T}$ is the $V$ transpose of an \n",
    "$n \\times n$ matrix where $T$ is a superscript.\n",
    "\n",
    "### Calculate Singular-Value Decomposition:"
   ]
  },
  {
   "cell_type": "code",
   "execution_count": 24,
   "metadata": {},
   "outputs": [
    {
     "name": "stdout",
     "output_type": "stream",
     "text": [
      "A: \n",
      "[[1 2]\n",
      " [3 4]\n",
      " [5 6]]\n",
      "\n",
      "U: \n",
      "[[-0.2298477   0.88346102  0.40824829]\n",
      " [-0.52474482  0.24078249 -0.81649658]\n",
      " [-0.81964194 -0.40189603  0.40824829]]\n",
      "\n",
      "s: [9.52551809 0.51430058]\n",
      "\n",
      "V: \n",
      "[[-0.61962948 -0.78489445]\n",
      " [-0.78489445  0.61962948]]\n",
      "\n"
     ]
    }
   ],
   "source": [
    "from numpy import array\n",
    "from scipy.linalg import svd\n",
    "\n",
    "# defining a matrix\n",
    "A = array([\n",
    "    [1, 2],\n",
    "    [3, 4],\n",
    "    [5, 6]\n",
    "])\n",
    "\n",
    "print(f\"A: \\n{A}\\n\")\n",
    "\n",
    "# factorizing\n",
    "U, s, V = svd(A)\n",
    "print(f\"U: \\n{U}\\n\")\n",
    "print(f\"s: {s}\\n\")\n",
    "print(f\"V: \\n{V}\\n\")"
   ]
  },
  {
   "cell_type": "markdown",
   "metadata": {},
   "source": [
    "### Reconstruct Matrix:\n",
    "\n",
    "The original matrix can be reconstructed from the $U$ , $\\Sigma$ and $V^{T}$ elements.\n",
    "The $U$, $s$, and $V$ elements returned from the $svd()$ cannot be multiplied directly.\n",
    "The $s$ vector must be converted into a diagonal matrix using the $diag()$ function.\n",
    "By default, this function will create a square matrix that is $m \\times m$, relative to\n",
    "our original matrix. This causes a problem as the size of the matrices do not fit the \n",
    "rules of matrix multiplication, where the number of columns in a matrix must match the\n",
    "number of rows in the subsequent matrix. After creating the square $\\Sigma$ diagonal matrix,\n",
    "the sizes of the matrices are relative to the original $n \\times m$ matrix that we are\n",
    "decomposing, as follows:\n",
    "\n",
    "$$U(m \\times m).\\Sigma(m \\times m). V^{T}(n \\times n)$$\n",
    "\n",
    "Where, in fact, we require:\n",
    "\n",
    "$$U(m \\times m).\\Sigma(m \\times n). V^{T}(n \\times n)$$\n",
    "\n",
    "We can achieve this by creating a new $\\Sigma$ matrix of all zero values that is $m \\times n$ (e.g. more\n",
    "rows) and populate the first $n \\times n$ part of the matrix with the square diagonal matrix calculated\n",
    "via $diag()$."
   ]
  },
  {
   "cell_type": "code",
   "execution_count": 32,
   "metadata": {},
   "outputs": [
    {
     "name": "stdout",
     "output_type": "stream",
     "text": [
      "A: \n",
      "[[1 2]\n",
      " [3 4]\n",
      " [5 6]]\n",
      "\n",
      "B: \n",
      "[[1. 2.]\n",
      " [3. 4.]\n",
      " [5. 6.]]\n"
     ]
    }
   ],
   "source": [
    "# reconstructing rectangular matrix fro svd\n",
    "\n",
    "from numpy import array\n",
    "from numpy import diag\n",
    "from numpy import zeros\n",
    "from scipy.linalg import svd\n",
    "\n",
    "# defining a matrix\n",
    "A = array([\n",
    "    [1, 2],\n",
    "    [3, 4],\n",
    "    [5, 6]\n",
    "])\n",
    "print(f\"A: \\n{A}\\n\")\n",
    "\n",
    "# factorizing\n",
    "U, s, V = svd(A)\n",
    "\n",
    "# creating m*n Sigma matrix\n",
    "Sigma = zeros((A.shape[0], A.shape[1]))\n",
    "\n",
    "# populate Sigma with n*n diagonal matrix\n",
    "Sigma[:A.shape[1], :A.shape[1]] = diag(s)\n",
    "\n",
    "# reconstructing matrix\n",
    "B = U.dot(Sigma.dot(V))\n",
    "print(f\"B: \\n{B}\")"
   ]
  },
  {
   "cell_type": "code",
   "execution_count": null,
   "metadata": {},
   "outputs": [],
   "source": []
  }
 ],
 "metadata": {
  "kernelspec": {
   "display_name": "PyCharm (numpy_and_algebra)",
   "language": "python",
   "name": "pycharm-34aae690"
  },
  "language_info": {
   "codemirror_mode": {
    "name": "ipython",
    "version": 3
   },
   "file_extension": ".py",
   "mimetype": "text/x-python",
   "name": "python",
   "nbconvert_exporter": "python",
   "pygments_lexer": "ipython3",
   "version": "3.8.1"
  },
  "pycharm": {
   "stem_cell": {
    "cell_type": "raw",
    "metadata": {
     "collapsed": false
    },
    "source": []
   }
  }
 },
 "nbformat": 4,
 "nbformat_minor": 1
}
