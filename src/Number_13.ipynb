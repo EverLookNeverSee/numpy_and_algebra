{
 "cells": [
  {
   "cell_type": "markdown",
   "metadata": {
    "collapsed": true,
    "pycharm": {
     "is_executing": false,
     "name": "#%% md\n"
    }
   },
   "source": [
    "## Singular Value Decomposition\n",
    "### What is the singular value decomposition?\n",
    "\n",
    "The Singular-Value Decomposition, or SVD for short, is a matrix\n",
    "decomposition method for reducing a matrix to its constituent parts\n",
    "in order to make certain subsequent matrix calculations simpler. For\n",
    "the case of simplicity we will focus on the SVD for real-valued matrices\n",
    "and ignore the case for complex numbers.\n",
    "    \n",
    "\n",
    "$$A = U . \\Sigma . V^{T}$$\n",
    "\n",
    "\n",
    "Where $A$ is the real $n×m$ matrix that we wish to decompose, $U$ is an\n",
    "$m×m$ matrix, $\\Sigma$ represented by the uppercase Greek letter sigma)\n",
    "is an $m×n$ diagonal matrix, and $V^{T}$ is the $V$ transpose of an $n×n$ \n",
    "matrix where $T$ is a superscript."
   ]
  },
  {
   "cell_type": "code",
   "execution_count": null,
   "metadata": {},
   "outputs": [],
   "source": []
  }
 ],
 "metadata": {
  "kernelspec": {
   "display_name": "PyCharm (numpy_and_algebra)",
   "language": "python",
   "name": "pycharm-34aae690"
  },
  "language_info": {
   "codemirror_mode": {
    "name": "ipython",
    "version": 3
   },
   "file_extension": ".py",
   "mimetype": "text/x-python",
   "name": "python",
   "nbconvert_exporter": "python",
   "pygments_lexer": "ipython3",
   "version": "3.8.1"
  },
  "pycharm": {
   "stem_cell": {
    "cell_type": "raw",
    "source": [],
    "metadata": {
     "collapsed": false
    }
   }
  }
 },
 "nbformat": 4,
 "nbformat_minor": 1
}