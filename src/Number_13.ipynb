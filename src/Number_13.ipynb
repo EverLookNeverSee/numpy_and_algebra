{
 "cells": [
  {
   "cell_type": "markdown",
   "metadata": {
    "collapsed": true,
    "pycharm": {
     "is_executing": false,
     "name": "#%% md\n"
    }
   },
   "source": [
    "## Singular Value Decomposition\n",
    "### What is the singular value decomposition?\n",
    "\n",
    "The Singular-Value Decomposition, or SVD for short, is a matrix\n",
    "decomposition method for reducing a matrix to its constituent parts\n",
    "in order to make certain subsequent matrix calculations simpler. For\n",
    "the case of simplicity we will focus on the SVD for real-valued matrices\n",
    "and ignore the case for complex numbers.\n",
    "    \n",
    "\n",
    "$$A = U . \\Sigma . V^{T}$$\n",
    "\n",
    "\n",
    "Where $A$ is the real $n \\times m$ matrix that we wish to decompose, $U$ is an\n",
    "$m \\times m$ matrix, $\\Sigma$ represented by the uppercase Greek letter sigma)\n",
    "is an $m \\times n$ diagonal matrix, and $V^{T}$ is the $V$ transpose of an \n",
    "$n \\times n$ matrix where $T$ is a superscript.\n",
    "\n",
    "### Calculate Singular-Value Decomposition:"
   ]
  },
  {
   "cell_type": "code",
   "execution_count": 1,
   "metadata": {
    "pycharm": {
     "is_executing": false
    }
   },
   "outputs": [
    {
     "name": "stdout",
     "text": [
      "A: \n",
      "[[1 2]\n",
      " [3 4]\n",
      " [5 6]]\n",
      "\n",
      "U: \n",
      "[[-0.2298477   0.88346102  0.40824829]\n",
      " [-0.52474482  0.24078249 -0.81649658]\n",
      " [-0.81964194 -0.40189603  0.40824829]]\n",
      "\n",
      "s: [9.52551809 0.51430058]\n",
      "\n",
      "V: \n",
      "[[-0.61962948 -0.78489445]\n",
      " [-0.78489445  0.61962948]]\n",
      "\n"
     ],
     "output_type": "stream"
    }
   ],
   "source": [
    "from numpy import array\n",
    "from scipy.linalg import svd\n",
    "\n",
    "# defining a matrix\n",
    "A = array([\n",
    "    [1, 2],\n",
    "    [3, 4],\n",
    "    [5, 6]\n",
    "])\n",
    "\n",
    "print(f\"A: \\n{A}\\n\")\n",
    "\n",
    "# factorizing\n",
    "U, s, V = svd(A)\n",
    "print(f\"U: \\n{U}\\n\")\n",
    "print(f\"s: {s}\\n\")\n",
    "print(f\"V: \\n{V}\\n\")"
   ]
  },
  {
   "cell_type": "markdown",
   "metadata": {},
   "source": [
    "### Reconstruct Matrix:\n",
    "\n",
    "The original matrix can be reconstructed from the $U$ , $\\Sigma$ and $V^{T}$ elements.\n",
    "The $U$, $s$, and $V$ elements returned from the $svd()$ cannot be multiplied directly.\n",
    "The $s$ vector must be converted into a diagonal matrix using the $diag()$ function.\n",
    "By default, this function will create a square matrix that is $m \\times m$, relative to\n",
    "our original matrix. This causes a problem as the size of the matrices do not fit the \n",
    "rules of matrix multiplication, where the number of columns in a matrix must match the\n",
    "number of rows in the subsequent matrix. After creating the square $\\Sigma$ diagonal matrix,\n",
    "the sizes of the matrices are relative to the original $n \\times m$ matrix that we are\n",
    "decomposing, as follows:\n",
    "\n",
    "$$U(m \\times m).\\Sigma(m \\times m). V^{T}(n \\times n)$$\n",
    "\n",
    "Where, in fact, we require:\n",
    "\n",
    "$$U(m \\times m).\\Sigma(m \\times n). V^{T}(n \\times n)$$\n",
    "\n",
    "We can achieve this by creating a new $\\Sigma$ matrix of all zero values that is $m \\times n$ (e.g. more\n",
    "rows) and populate the first $n \\times n$ part of the matrix with the square diagonal matrix calculated\n",
    "via $diag()$."
   ]
  },
  {
   "cell_type": "code",
   "execution_count": 2,
   "metadata": {
    "pycharm": {
     "is_executing": false
    }
   },
   "outputs": [
    {
     "name": "stdout",
     "text": [
      "A: \n",
      "[[1 2]\n",
      " [3 4]\n",
      " [5 6]]\n",
      "\n",
      "B: \n",
      "[[1. 2.]\n",
      " [3. 4.]\n",
      " [5. 6.]]\n"
     ],
     "output_type": "stream"
    }
   ],
   "source": [
    "# reconstructing rectangular matrix fro svd\n",
    "\n",
    "from numpy import array\n",
    "from numpy import diag\n",
    "from numpy import zeros\n",
    "from scipy.linalg import svd\n",
    "\n",
    "# defining a matrix\n",
    "A = array([\n",
    "    [1, 2],\n",
    "    [3, 4],\n",
    "    [5, 6]\n",
    "])\n",
    "print(f\"A: \\n{A}\\n\")\n",
    "\n",
    "# factorizing\n",
    "U, s, V = svd(A)\n",
    "\n",
    "# creating m*n Sigma matrix\n",
    "Sigma = zeros((A.shape[0], A.shape[1]))\n",
    "\n",
    "# populate Sigma with n*n diagonal matrix\n",
    "Sigma[:A.shape[1], :A.shape[1]] = diag(s)\n",
    "\n",
    "# reconstructing matrix\n",
    "B = U.dot(Sigma.dot(V))\n",
    "print(f\"B: \\n{B}\")"
   ]
  },
  {
   "cell_type": "markdown",
   "metadata": {
    "pycharm": {
     "is_executing": false,
     "name": "#%% md\n"
    }
   },
   "source": [
    "The above complication with the $\\Sigma$ diagonal only exists with the case where m and n are\n",
    "not equal. The diagonal matrix can be used directly when reconstructing a square matrix, as\n",
    "follows:"
   ]
  },
  {
   "cell_type": "code",
   "execution_count": 3,
   "outputs": [
    {
     "name": "stdout",
     "text": [
      "A: \n",
      "[[1 2 3]\n",
      " [4 5 6]\n",
      " [7 8 9]]\n",
      "\n",
      "B: \n",
      "[[1. 2. 3.]\n",
      " [4. 5. 6.]\n",
      " [7. 8. 9.]]\n"
     ],
     "output_type": "stream"
    }
   ],
   "source": [
    "from numpy import array\n",
    "from numpy import diag\n",
    "from scipy.linalg import svd\n",
    "\n",
    "# defining a matrix\n",
    "A = array([\n",
    "    [1, 2, 3],\n",
    "    [4, 5, 6],\n",
    "    [7, 8, 9]\n",
    "])\n",
    "print(f\"A: \\n{A}\\n\")\n",
    "\n",
    "# factorizing\n",
    "U, s, V = svd(A)\n",
    "\n",
    "# creating n*n Sigma matrix\n",
    "Sigma = diag(s)\n",
    "\n",
    "# reconstructing matrix\n",
    "B = U.dot(Sigma.dot(V))\n",
    "print(f\"B: \\n{B}\")"
   ],
   "metadata": {
    "collapsed": false,
    "pycharm": {
     "name": "#%%\n",
     "is_executing": false
    }
   }
  },
  {
   "cell_type": "markdown",
   "source": [
    "## Pseudoinverse\n",
    "\n",
    "The pseudoinverse is the generalization of the matrix inverse for square matrices to rectangular\n",
    "matrices where the number of rows and columns are not equal. It is also called the Moore-Penrose\n",
    "Inverse after two independent discoverers of the method or the Generalized Inverse.\n",
    "\n",
    "The pseudoinverse is denoted as $A^{+}$, where $A$ is the matrix that is being inverted and $+$ is a\n",
    "superscript. The pseudoinverse is calculated using the singular value decomposition of $A$:\n",
    "\n",
    "$$A^{+} = V . D^{+} . U^{T}$$\n",
    "\n",
    "The $D^{+}$ can be calculated by creating a diagonal matrix from $\\Sigma$, calculating the reciprocal\n",
    "of each non-zero element in $\\Sigma$, and taking the transpose if the original matrix was rectangular.\n",
    "\n",
    "$$ \\Sigma = \\begin{bmatrix} s_{1,1}  & 0 & 0 \\\\0 & s_{2,2} & 0 \\\\0 & 0 & s_{3,3}\\end{bmatrix} $$\n",
    "\n",
    "$$D^{+} = \\begin{bmatrix} \\frac{1}{s_{1,1}}  & 0 & 0 \\\\0 & \\frac{1}{s_{2,2}} & 0 \\\\0 & 0 & \\frac{1}{s_{3,3}}\\end{bmatrix}$$"
   ],
   "metadata": {
    "collapsed": false,
    "pycharm": {
     "name": "#%% md\n"
    }
   }
  },
  {
   "cell_type": "code",
   "execution_count": 4,
   "outputs": [
    {
     "name": "stdout",
     "text": [
      "A: \n",
      "[[0.1 0.2]\n",
      " [0.3 0.4]\n",
      " [0.5 0.6]\n",
      " [0.7 0.8]]\n",
      "\n",
      "B: \n",
      "[[-1.00000000e+01 -5.00000000e+00  1.42385628e-14  5.00000000e+00]\n",
      " [ 8.50000000e+00  4.50000000e+00  5.00000000e-01 -3.50000000e+00]]\n"
     ],
     "output_type": "stream"
    }
   ],
   "source": [
    "# pseudoinverse\n",
    "from numpy.linalg import pinv\n",
    "\n",
    "# defining an array\n",
    "A = array([\n",
    "    [0.1, 0.2],\n",
    "    [0.3, 0.4],\n",
    "    [0.5, 0.6],\n",
    "    [0.7, 0.8]\n",
    "])\n",
    "print(f\"A: \\n{A}\\n\")\n",
    "\n",
    "# calculating pseudoinverse\n",
    "B = pinv(A)\n",
    "print(f\"B: \\n{B}\")"
   ],
   "metadata": {
    "collapsed": false,
    "pycharm": {
     "name": "#%%\n",
     "is_executing": false
    }
   }
  },
  {
   "cell_type": "markdown",
   "source": [
    "We can calculate the pseudoinverse manually via the SVD and compare the results to the\n",
    "$pinv()$ function. First we must calculate the $SVD$. Next we must calculate the reciprocal of\n",
    "each value in the s array. Then the $s$ array can be transformed into a diagonal matrix with an\n",
    "added row of zeros to make it rectangular. Finally, we can calculate the pseudoinverse from the\n",
    "elements. The specific implementation is:\n",
    "\n",
    "$$A^{+} = V^{T} . D^{T} . U^{T}$$"
   ],
   "metadata": {
    "collapsed": false,
    "pycharm": {
     "name": "#%% md\n",
     "is_executing": false
    }
   }
  },
  {
   "cell_type": "code",
   "execution_count": 7,
   "outputs": [
    {
     "name": "stdout",
     "text": [
      "A: \n",
      "[[0.1 0.2]\n",
      " [0.3 0.4]\n",
      " [0.5 0.6]\n",
      " [0.7 0.8]]\n",
      "\n",
      "B: \n",
      "[[-1.00000000e+01 -5.00000000e+00  1.42578328e-14  5.00000000e+00]\n",
      " [ 8.50000000e+00  4.50000000e+00  5.00000000e-01 -3.50000000e+00]]\n"
     ],
     "output_type": "stream"
    }
   ],
   "source": [
    "# pseudoinverse using svd\n",
    "# defining an array\n",
    "A = array([\n",
    "    [0.1, 0.2],\n",
    "    [0.3, 0.4],\n",
    "    [0.5, 0.6],\n",
    "    [0.7, 0.8]\n",
    "])\n",
    "print(f\"A: \\n{A}\\n\")\n",
    "\n",
    "# factorizing\n",
    "U, s, V = svd(A)\n",
    "\n",
    "#reciprocals of s\n",
    "d = 1.0 / s\n",
    "\n",
    "# creating m*n D matrix\n",
    "D = zeros(A.shape)\n",
    "\n",
    "# populate D with n*n diagonal matrix\n",
    "D[:A.shape[1], :A.shape[1]] = diag(d)\n",
    "\n",
    "# calculating pseudoinverse\n",
    "B = V.T.dot(D.T).dot(U.T)\n",
    "print(f\"B: \\n{B}\")"
   ],
   "metadata": {
    "collapsed": false,
    "pycharm": {
     "name": "#%%\n",
     "is_executing": false
    }
   }
  },
  {
   "cell_type": "code",
   "execution_count": null,
   "outputs": [],
   "source": [
    "\n"
   ],
   "metadata": {
    "collapsed": false,
    "pycharm": {
     "name": "#%%\n"
    }
   }
  }
 ],
 "metadata": {
  "kernelspec": {
   "display_name": "PyCharm (numpy_and_algebra)",
   "language": "python",
   "name": "pycharm-34aae690"
  },
  "language_info": {
   "codemirror_mode": {
    "name": "ipython",
    "version": 3
   },
   "file_extension": ".py",
   "mimetype": "text/x-python",
   "name": "python",
   "nbconvert_exporter": "python",
   "pygments_lexer": "ipython3",
   "version": "3.8.1"
  },
  "pycharm": {
   "stem_cell": {
    "cell_type": "raw",
    "source": [],
    "metadata": {
     "collapsed": false
    }
   }
  }
 },
 "nbformat": 4,
 "nbformat_minor": 1
}