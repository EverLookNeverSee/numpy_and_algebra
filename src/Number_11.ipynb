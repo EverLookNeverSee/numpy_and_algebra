{
 "cells": [
  {
   "cell_type": "markdown",
   "metadata": {},
   "source": [
    "## Matrix Decompositions\n",
    "### LU Decomposition:\n",
    "    The LU decomposition is for square matrices and decomposes a\n",
    "    matrix into L and U components.\n",
    "    \n",
    "        A = L.U\n",
    "    \n",
    "    The LU decomposition is found using an iterative numerical\n",
    "    process and can fail for those matrices that cannot be decomposed\n",
    "    or decomposed easily. A variation of this decomposition that is\n",
    "    numerically more stable to solve in practice is called the LUP\n",
    "    decomposition, or the LU decomposition with partial pivoting.\n",
    "    \n",
    "        A = L . U. P"
   ]
  },
  {
   "cell_type": "code",
   "execution_count": 2,
   "metadata": {},
   "outputs": [
    {
     "name": "stdout",
     "output_type": "stream",
     "text": [
      "A: \n",
      "[[1 2 3]\n",
      " [4 5 6]\n",
      " [7 8 9]]\n",
      "\n",
      "P:\n",
      " [[0. 1. 0.]\n",
      " [0. 0. 1.]\n",
      " [1. 0. 0.]]\n",
      "\n",
      "L:\n",
      " [[1.         0.         0.        ]\n",
      " [0.14285714 1.         0.        ]\n",
      " [0.57142857 0.5        1.        ]]\n",
      "\n",
      "U:\n",
      " [[7.         8.         9.        ]\n",
      " [0.         0.85714286 1.71428571]\n",
      " [0.         0.         0.        ]]\n",
      "\n",
      "B:\n",
      " [[1. 2. 3.]\n",
      " [4. 5. 6.]\n",
      " [7. 8. 9.]]\n"
     ]
    }
   ],
   "source": [
    "from numpy import array\n",
    "from scipy.linalg import lu\n",
    "\n",
    "# define a square matrix\n",
    "A = array([[1, 2, 3],\n",
    "           [4, 5, 6],\n",
    "           [7, 8, 9]])\n",
    "print(f\"A: \\n{A}\\n\")\n",
    "\n",
    "# factorize\n",
    "P, L, U = lu(A)\n",
    "print(f\"P:\\n {P}\\n\")\n",
    "print(f\"L:\\n {L}\\n\")\n",
    "print(f\"U:\\n {U}\\n\")\n",
    "\n",
    "# reconstruct\n",
    "B = P.dot(L).dot(U)\n",
    "print(f\"B:\\n {B}\")"
   ]
  },
  {
   "cell_type": "code",
   "execution_count": null,
   "metadata": {},
   "outputs": [],
   "source": []
  }
 ],
 "metadata": {
  "kernelspec": {
   "display_name": "PyCharm (numpy_and_algebra)",
   "language": "python",
   "name": "pycharm-34aae690"
  },
  "language_info": {
   "codemirror_mode": {
    "name": "ipython",
    "version": 3
   },
   "file_extension": ".py",
   "mimetype": "text/x-python",
   "name": "python",
   "nbconvert_exporter": "python",
   "pygments_lexer": "ipython3",
   "version": "3.8.1"
  }
 },
 "nbformat": 4,
 "nbformat_minor": 4
}
