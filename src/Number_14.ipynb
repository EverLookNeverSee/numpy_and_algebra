{
 "cells": [
  {
   "cell_type": "code",
   "execution_count": 5,
   "metadata": {
    "collapsed": true,
    "pycharm": {
     "is_executing": false
    }
   },
   "outputs": [
    {
     "data": {
      "text/plain": "' Introduction To Multivariate Statistics '"
     },
     "metadata": {},
     "output_type": "execute_result",
     "execution_count": 5
    }
   ],
   "source": [
    "\"\"\" Introduction To Multivariate Statistics \"\"\""
   ]
  },
  {
   "cell_type": "code",
   "execution_count": 6,
   "outputs": [
    {
     "name": "stdout",
     "text": [
      "v: [1 2 3 4 5 6]\n",
      "\n",
      "result: 3.5\n"
     ],
     "output_type": "stream"
    }
   ],
   "source": [
    "# vector mean\n",
    "from numpy import array\n",
    "from numpy import mean\n",
    "\n",
    "# defining an array(vector)\n",
    "v = array([1, 2, 3, 4, 5, 6])\n",
    "print(f\"v: {v}\\n\")\n",
    "\n",
    "# calculating mean\n",
    "result = mean(v)\n",
    "print(f\"result: {result}\")"
   ],
   "metadata": {
    "collapsed": false,
    "pycharm": {
     "name": "#%%\n",
     "is_executing": false
    }
   }
  },
  {
   "cell_type": "code",
   "execution_count": 10,
   "outputs": [
    {
     "name": "stdout",
     "text": [
      "M: \n",
      "[[1 2 3 4 5 6]\n",
      " [1 2 3 4 5 6]]\n",
      "\n",
      "col_mean: [1. 2. 3. 4. 5. 6.]\n",
      "\n",
      "row_mean: [3.5 3.5]\n"
     ],
     "output_type": "stream"
    }
   ],
   "source": [
    "# matrix mean\n",
    "from numpy import array\n",
    "from numpy import mean\n",
    "\n",
    "# defining an array(matrix)\n",
    "M = array([\n",
    "    [1, 2, 3, 4, 5, 6],\n",
    "    [1, 2, 3, 4, 5, 6]\n",
    "])\n",
    "print(f\"M: \\n{M}\\n\")\n",
    "\n",
    "# column means\n",
    "col_mean = mean(M, axis=0)\n",
    "print(f\"col_mean: {col_mean}\\n\")\n",
    "\n",
    "# row means\n",
    "row_mean = mean(M, axis=1)\n",
    "print(f\"row_mean: {row_mean}\")"
   ],
   "metadata": {
    "collapsed": false,
    "pycharm": {
     "name": "#%%\n",
     "is_executing": false
    }
   }
  },
  {
   "cell_type": "code",
   "execution_count": 12,
   "outputs": [
    {
     "name": "stdout",
     "text": [
      "v: [1 2 3 4 5 6]\n",
      "\n",
      "result: 3.5\n"
     ],
     "output_type": "stream"
    }
   ],
   "source": [
    "# vector variance\n",
    "from numpy import array\n",
    "from numpy import var\n",
    "\n",
    "# defining a vector\n",
    "v = array([1, 2, 3, 4, 5, 6])\n",
    "print(f\"v: {v}\\n\")\n",
    "\n",
    "# calculating variance\n",
    "result = var(v, ddof=1)\n",
    "print(f\"result: {result}\")"
   ],
   "metadata": {
    "collapsed": false,
    "pycharm": {
     "name": "#%%\n",
     "is_executing": false
    }
   }
  },
  {
   "cell_type": "code",
   "execution_count": 15,
   "outputs": [
    {
     "name": "stdout",
     "text": [
      "M: \n",
      "[[1 2 3 4 5 6]\n",
      " [1 2 3 4 5 6]]\n",
      "\n",
      "col_var: [0. 0. 0. 0. 0. 0.]\n",
      "row_var: [3.5 3.5]\n"
     ],
     "output_type": "stream"
    }
   ],
   "source": [
    "# matrix variance\n",
    "from numpy import array\n",
    "from numpy import var\n",
    "\n",
    "# defining an array(matrix)\n",
    "M = array([\n",
    "    [1, 2, 3, 4, 5, 6],\n",
    "    [1, 2, 3, 4, 5, 6]\n",
    "])\n",
    "print(f\"M: \\n{M}\\n\")\n",
    "\n",
    "# column variances\n",
    "col_var = var(M, ddof=1, axis=0)\n",
    "print(f\"col_var: {col_var}\")\n",
    "\n",
    "# row variances\n",
    "row_var = var(M, ddof=1, axis=1)\n",
    "print(f\"row_var: {row_var}\")"
   ],
   "metadata": {
    "collapsed": false,
    "pycharm": {
     "name": "#%%\n",
     "is_executing": false
    }
   }
  },
  {
   "cell_type": "code",
   "execution_count": 20,
   "outputs": [
    {
     "name": "stdout",
     "text": [
      "M: \n",
      "[[1 2 3 4 5 6]\n",
      " [1 2 3 4 5 6]]\n",
      "\n",
      "col_std: [0. 0. 0. 0. 0. 0.]\n",
      "\n",
      "row_std: [1.87082869 1.87082869]\n",
      "\n"
     ],
     "output_type": "stream"
    }
   ],
   "source": [
    "# matrix standard deviation\n",
    "from numpy import array\n",
    "from numpy import std\n",
    "\n",
    "# defining an array(matrix)\n",
    "M = array([\n",
    "    [1, 2, 3, 4, 5, 6],\n",
    "    [1, 2, 3, 4, 5, 6]\n",
    "])\n",
    "print(f\"M: \\n{M}\\n\")\n",
    "\n",
    "# column standard deviations\n",
    "col_std = std(M, ddof=1, axis=0)\n",
    "print(f\"col_std: {col_std}\\n\")\n",
    "\n",
    "# row standard deviation\n",
    "row_std = std(M, ddof=1, axis=1)\n",
    "print(f\"row_std: {row_std}\\n\")"
   ],
   "metadata": {
    "collapsed": false,
    "pycharm": {
     "name": "#%%\n",
     "is_executing": false
    }
   }
  },
  {
   "cell_type": "code",
   "execution_count": null,
   "outputs": [],
   "source": [
    "\n"
   ],
   "metadata": {
    "collapsed": false,
    "pycharm": {
     "name": "#%%\n"
    }
   }
  }
 ],
 "metadata": {
  "kernelspec": {
   "display_name": "Python 3",
   "language": "python",
   "name": "python3"
  },
  "language_info": {
   "codemirror_mode": {
    "name": "ipython",
    "version": 2
   },
   "file_extension": ".py",
   "mimetype": "text/x-python",
   "name": "python",
   "nbconvert_exporter": "python",
   "pygments_lexer": "ipython2",
   "version": "2.7.6"
  },
  "pycharm": {
   "stem_cell": {
    "cell_type": "raw",
    "source": [],
    "metadata": {
     "collapsed": false
    }
   }
  }
 },
 "nbformat": 4,
 "nbformat_minor": 0
}