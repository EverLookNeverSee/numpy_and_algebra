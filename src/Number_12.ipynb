{
 "cells": [
  {
   "cell_type": "markdown",
   "metadata": {},
   "source": [
    "## Eigen Decomposition\n",
    "### Calculation of Eigendecomposition:\n",
    "    An eigendecomposition is calculated on a square matrix using an efficient\n",
    "    iterative algorithm, of which we will not go into the details. Often an \n",
    "    eigenvalue is found first, then an eigenvector is found to solve the \n",
    "    equation as a set of coefficients."
   ]
  },
  {
   "cell_type": "code",
   "execution_count": 5,
   "metadata": {},
   "outputs": [
    {
     "name": "stdout",
     "output_type": "stream",
     "text": [
      "A: \n",
      "[[1 2 3]\n",
      " [4 5 6]\n",
      " [7 8 9]]\n",
      "\n",
      "values: [ 1.61168440e+01 -1.11684397e+00 -1.30367773e-15]\n",
      "\n",
      "vectors: \n",
      "[[-0.23197069 -0.78583024  0.40824829]\n",
      " [-0.52532209 -0.08675134 -0.81649658]\n",
      " [-0.8186735   0.61232756  0.40824829]]\n"
     ]
    }
   ],
   "source": [
    "from numpy import array\n",
    "from numpy.linalg import eig\n",
    "\n",
    "# define a square matrix\n",
    "A = array([[1, 2, 3],\n",
    "           [4, 5, 6],\n",
    "           [7, 8, 9]])\n",
    "print(f\"A: \\n{A}\\n\")\n",
    "\n",
    "#factorize\n",
    "values, vectors = eig(A)\n",
    "print(f\"values: {values}\\n\")\n",
    "print(f\"vectors: \\n{vectors}\")"
   ]
  },
  {
   "cell_type": "markdown",
   "metadata": {},
   "source": [
    "### Confirm an Eigenvalue and Eigenvector:\n",
    "    The eigenvectors are returned as a matrix with the same dimensions as the \n",
    "    parent matrix, where each column is an eigenvector, e.g. the first \n",
    "    eigenvector is vectors[:, 0]. Eigenvalues are returned as a list, where\n",
    "    value indices in the returned array are paired with eigenvectors by \n",
    "    column index, e.g. the first eigenvalue at values[0] is paired with the \n",
    "    first eigenvector at vectors[:, 0]."
   ]
  },
  {
   "cell_type": "code",
   "execution_count": 7,
   "metadata": {},
   "outputs": [
    {
     "name": "stdout",
     "output_type": "stream",
     "text": [
      "A: \n",
      "[[1 2 3]\n",
      " [4 5 6]\n",
      " [7 8 9]]\n",
      "\n",
      "B: [ -3.73863537  -8.46653421 -13.19443305]\n",
      "\n",
      "C: [ -3.73863537  -8.46653421 -13.19443305]\n"
     ]
    }
   ],
   "source": [
    "from numpy import array\n",
    "from numpy.linalg import eig\n",
    "\n",
    "A = array([[1, 2, 3],\n",
    "           [4, 5, 6],\n",
    "           [7, 8, 9]])\n",
    "print(f\"A: \\n{A}\\n\")\n",
    "\n",
    "# factorize\n",
    "values, vectors = eig(A)\n",
    "\n",
    "# confirm first eigenvector\n",
    "B = A.dot(vectors[:, 0])\n",
    "print(f\"B: {B}\\n\")\n",
    "\n",
    "C = vectors[:, 0] * values[0]\n",
    "print(f\"C: {C}\")"
   ]
  },
  {
   "cell_type": "code",
   "execution_count": null,
   "metadata": {},
   "outputs": [],
   "source": []
  }
 ],
 "metadata": {
  "kernelspec": {
   "display_name": "PyCharm (numpy_and_algebra)",
   "language": "python",
   "name": "pycharm-34aae690"
  },
  "language_info": {
   "codemirror_mode": {
    "name": "ipython",
    "version": 3
   },
   "file_extension": ".py",
   "mimetype": "text/x-python",
   "name": "python",
   "nbconvert_exporter": "python",
   "pygments_lexer": "ipython3",
   "version": "3.8.1"
  }
 },
 "nbformat": 4,
 "nbformat_minor": 4
}
