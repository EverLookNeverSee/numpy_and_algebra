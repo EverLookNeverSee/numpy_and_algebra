{
 "cells": [
  {
   "cell_type": "code",
   "execution_count": 29,
   "metadata": {
    "collapsed": true,
    "pycharm": {
     "is_executing": false
    }
   },
   "outputs": [
    {
     "data": {
      "text/plain": "' Introduction to Numpy Arrays '"
     },
     "metadata": {},
     "output_type": "execute_result",
     "execution_count": 29
    }
   ],
   "source": [
    "\"\"\" Introduction to Numpy Arrays \"\"\""
   ]
  },
  {
   "cell_type": "code",
   "execution_count": 30,
   "outputs": [],
   "source": [
    "# importing numpy\n",
    "import numpy as np"
   ],
   "metadata": {
    "collapsed": false,
    "pycharm": {
     "name": "#%%\n",
     "is_executing": false
    }
   }
  },
  {
   "cell_type": "code",
   "execution_count": 31,
   "outputs": [],
   "source": [
    "# create a array\n",
    "l = [1.0, 2.0, 3.0]\n",
    "a = np.array(l)"
   ],
   "metadata": {
    "collapsed": false,
    "pycharm": {
     "name": "#%%\n",
     "is_executing": false
    }
   }
  },
  {
   "cell_type": "code",
   "execution_count": 32,
   "outputs": [
    {
     "name": "stdout",
     "text": [
      "a: [1. 2. 3.]\n"
     ],
     "output_type": "stream"
    }
   ],
   "source": [
    "# display array\n",
    "print(f\"a: {a}\")"
   ],
   "metadata": {
    "collapsed": false,
    "pycharm": {
     "name": "#%%\n",
     "is_executing": false
    }
   }
  },
  {
   "cell_type": "code",
   "execution_count": 33,
   "outputs": [
    {
     "name": "stdout",
     "text": [
      "a.shape: (3,)\n"
     ],
     "output_type": "stream"
    }
   ],
   "source": [
    "# display array shape\n",
    "print(f\"a.shape: {a.shape}\")"
   ],
   "metadata": {
    "collapsed": false,
    "pycharm": {
     "name": "#%%\n",
     "is_executing": false
    }
   }
  },
  {
   "cell_type": "code",
   "execution_count": 34,
   "outputs": [
    {
     "name": "stdout",
     "text": [
      "a.dtype: float64\n"
     ],
     "output_type": "stream"
    }
   ],
   "source": [
    "# display array data type\n",
    "print(f\"a.dtype: {a.dtype}\")"
   ],
   "metadata": {
    "collapsed": false,
    "pycharm": {
     "name": "#%%\n",
     "is_executing": false
    }
   }
  },
  {
   "cell_type": "code",
   "execution_count": 35,
   "outputs": [
    {
     "data": {
      "text/plain": "' Functions to create arrays '"
     },
     "metadata": {},
     "output_type": "execute_result",
     "execution_count": 35
    }
   ],
   "source": [
    "\"\"\" Functions to create arrays \"\"\""
   ],
   "metadata": {
    "collapsed": false,
    "pycharm": {
     "name": "#%%\n",
     "is_executing": false
    }
   }
  },
  {
   "cell_type": "code",
   "execution_count": 36,
   "outputs": [
    {
     "name": "stdout",
     "text": [
      "b: [[0.00000000e+000 0.00000000e+000 0.00000000e+000]\n",
      " [6.37344683e-322 4.66882530e-310 6.90493079e-310]\n",
      " [0.00000000e+000 0.00000000e+000 6.90492891e-310]]\n"
     ],
     "output_type": "stream"
    }
   ],
   "source": [
    "\"\"\" Empty \"\"\"\n",
    "b = np.empty([3, 3])\n",
    "print(f\"b: {b}\")"
   ],
   "metadata": {
    "collapsed": false,
    "pycharm": {
     "name": "#%%\n",
     "is_executing": false
    }
   }
  },
  {
   "cell_type": "code",
   "execution_count": 37,
   "outputs": [
    {
     "name": "stdout",
     "text": [
      "c: [[0. 0. 0. 0. 0.]\n",
      " [0. 0. 0. 0. 0.]\n",
      " [0. 0. 0. 0. 0.]]\n"
     ],
     "output_type": "stream"
    }
   ],
   "source": [
    "\"\"\" Zeros \"\"\"\n",
    "c = np.zeros([3, 5])\n",
    "print(f\"c: {c}\")"
   ],
   "metadata": {
    "collapsed": false,
    "pycharm": {
     "name": "#%%\n",
     "is_executing": false
    }
   }
  },
  {
   "cell_type": "code",
   "execution_count": 38,
   "outputs": [
    {
     "name": "stdout",
     "text": [
      "d: [1. 1. 1. 1. 1.]\n"
     ],
     "output_type": "stream"
    }
   ],
   "source": [
    "\"\"\" Ones \"\"\"\n",
    "d = np.ones([5])\n",
    "print(f\"d: {d}\")"
   ],
   "metadata": {
    "collapsed": false,
    "pycharm": {
     "name": "#%%\n",
     "is_executing": false
    }
   }
  },
  {
   "cell_type": "code",
   "execution_count": 39,
   "outputs": [
    {
     "data": {
      "text/plain": "' Combining Arrays '"
     },
     "metadata": {},
     "output_type": "execute_result",
     "execution_count": 39
    }
   ],
   "source": [
    "\"\"\" Combining Arrays \"\"\""
   ],
   "metadata": {
    "collapsed": false,
    "pycharm": {
     "name": "#%%\n",
     "is_executing": false
    }
   }
  },
  {
   "cell_type": "code",
   "execution_count": 40,
   "outputs": [
    {
     "name": "stdout",
     "text": [
      "a1: [1 2 3]\n"
     ],
     "output_type": "stream"
    }
   ],
   "source": [
    "# vertical stack\n",
    "a1 = np.array([1, 2, 3])\n",
    "print(f\"a1: {a1}\")"
   ],
   "metadata": {
    "collapsed": false,
    "pycharm": {
     "name": "#%%\n",
     "is_executing": false
    }
   }
  },
  {
   "cell_type": "code",
   "execution_count": 41,
   "outputs": [
    {
     "name": "stdout",
     "text": [
      "a2: [4 5 6]\n"
     ],
     "output_type": "stream"
    }
   ],
   "source": [
    "a2 = np.array([4, 5, 6])\n",
    "print(f\"a2: {a2}\")"
   ],
   "metadata": {
    "collapsed": false,
    "pycharm": {
     "name": "#%%\n",
     "is_executing": false
    }
   }
  },
  {
   "cell_type": "code",
   "execution_count": 42,
   "outputs": [
    {
     "name": "stdout",
     "text": [
      "a3: [[1 2 3]\n",
      " [4 5 6]]\n"
     ],
     "output_type": "stream"
    }
   ],
   "source": [
    "a3 = np.vstack((a1, a2))\n",
    "print(f\"a3: {a3}\")"
   ],
   "metadata": {
    "collapsed": false,
    "pycharm": {
     "name": "#%%\n",
     "is_executing": false
    }
   }
  },
  {
   "cell_type": "code",
   "execution_count": 43,
   "outputs": [
    {
     "name": "stdout",
     "text": [
      "a3.shape: (2, 3)\n"
     ],
     "output_type": "stream"
    }
   ],
   "source": [
    "print(f\"a3.shape: {a3.shape}\")"
   ],
   "metadata": {
    "collapsed": false,
    "pycharm": {
     "name": "#%%\n",
     "is_executing": false
    }
   }
  },
  {
   "cell_type": "code",
   "execution_count": 44,
   "outputs": [
    {
     "name": "stdout",
     "text": [
      "a4: [1 2 3]\n"
     ],
     "output_type": "stream"
    }
   ],
   "source": [
    "# Horizontal stack\n",
    "a4 = np.array([1, 2, 3])\n",
    "print(f\"a4: {a4}\")"
   ],
   "metadata": {
    "collapsed": false,
    "pycharm": {
     "name": "#%%\n",
     "is_executing": false
    }
   }
  },
  {
   "cell_type": "code",
   "execution_count": 45,
   "outputs": [
    {
     "name": "stdout",
     "text": [
      "a5: [4 5 6]\n"
     ],
     "output_type": "stream"
    }
   ],
   "source": [
    "a5 = np.array([4, 5, 6])\n",
    "print(f\"a5: {a5}\")"
   ],
   "metadata": {
    "collapsed": false,
    "pycharm": {
     "name": "#%%\n",
     "is_executing": false
    }
   }
  },
  {
   "cell_type": "code",
   "execution_count": 46,
   "outputs": [
    {
     "name": "stdout",
     "text": [
      "a6: [1 2 3 4 5 6]\n"
     ],
     "output_type": "stream"
    }
   ],
   "source": [
    "# create horizontal stack\n",
    "a6 = np.hstack((a4, a5))\n",
    "print(f\"a6: {a6}\")"
   ],
   "metadata": {
    "collapsed": false,
    "pycharm": {
     "name": "#%%\n",
     "is_executing": false
    }
   }
  },
  {
   "cell_type": "code",
   "execution_count": 47,
   "outputs": [
    {
     "name": "stdout",
     "text": [
      "a6.shape: (6,)\n"
     ],
     "output_type": "stream"
    }
   ],
   "source": [
    "print(f\"a6.shape: {a6.shape}\")\n"
   ],
   "metadata": {
    "collapsed": false,
    "pycharm": {
     "name": "#%%\n",
     "is_executing": false
    }
   }
  }
 ],
 "metadata": {
  "kernelspec": {
   "name": "pycharm-f0b42db8",
   "language": "python",
   "display_name": "PyCharm (ML-Deep-Practices)"
  },
  "language_info": {
   "codemirror_mode": {
    "name": "ipython",
    "version": 2
   },
   "file_extension": ".py",
   "mimetype": "text/x-python",
   "name": "python",
   "nbconvert_exporter": "python",
   "pygments_lexer": "ipython2",
   "version": "2.7.6"
  },
  "pycharm": {
   "stem_cell": {
    "cell_type": "raw",
    "source": [],
    "metadata": {
     "collapsed": false
    }
   }
  }
 },
 "nbformat": 4,
 "nbformat_minor": 0
}